{
  "cells": [
    {
      "cell_type": "markdown",
      "metadata": {
        "id": "jcEWlm29bO5y"
      },
      "source": [
        "*Adjusting the Preprocessing Strategy*\n",
        "\n",
        "Before diving into the following data, I believe it would be helpful to refine the preprocessing strategy.\n",
        "So far, I have been separating my predictor variables into either continuous or discrete categories. However, there may be differences within discrete variables that need to be addressed. The reason for this consideration is that I have been one-hot encoding all discrete variables, which is generally fine. However, if I start adding interaction terms, this approach could significantly increase the dimensionality of the data. Since we already have a large number of instances in the training set, a substantial increase in dimensionality would greatly increase the computational time required for each step.\n",
        "\n",
        "As mentioned in the initial notebook, when our data is in numeric format, values like 2 are interpreted as greater than 1. However, in some cases, there is no mathematical relationship or inherent order between such values. To handle this, we can classify discrete variables as either nominal or ordinal:\n",
        "\n",
        "Nominal variables are discrete variables with no inherent order between categories.\n",
        "Ordinal variables have an inherent order or ranking between categories.\n",
        "Below are examples of each:\n",
        "\n",
        "**Ordinal Variables**\n",
        "* general_health: As this value increases, an individual's health worsens, indicating an inherent order.\n",
        "* Other examples: physical_activity_150, education_level, income_group, smoking_status, physical_health_days, and mental_health_days.\n",
        "\n",
        "**Nominal Variables**\n",
        "* sex: This variable represents either male or female. There is no inherent order, making it nominal.\n",
        "* Other examples: has_health_plan, meets_aerobic_guidelines, muscle_strengthening, high_blood_pressure, high_cholesterol, heart_disease, lifetime_asthma, arthritis, alcohol_consumption, binge_drinking, heavy_drinking, and difficulty_walking.\n",
        "\n",
        "Since ordinal variables have an inherent order and are already represented by numerical values, there is no need to one-hot encode them. However, nominal variables should be one-hot encoded to ensure they are appropriately represented in the model."
      ]
    },
    {
      "cell_type": "code",
      "source": [
        "from google.colab import drive\n",
        "drive.mount('/content/drive')"
      ],
      "metadata": {
        "colab": {
          "base_uri": "https://localhost:8080/"
        },
        "id": "yV5Q6aLTbaeG",
        "outputId": "43e0ea73-2fd2-47e1-aea2-0982db773ca2"
      },
      "execution_count": null,
      "outputs": [
        {
          "output_type": "stream",
          "name": "stdout",
          "text": [
            "Mounted at /content/drive\n"
          ]
        }
      ]
    },
    {
      "cell_type": "code",
      "execution_count": null,
      "metadata": {
        "colab": {
          "base_uri": "https://localhost:8080/"
        },
        "id": "XUehhMSZbO51",
        "outputId": "2cabf14f-a33f-48aa-cf51-629d493cf64c"
      },
      "outputs": [
        {
          "output_type": "stream",
          "name": "stdout",
          "text": [
            "<class 'pandas.core.frame.DataFrame'>\n",
            "RangeIndex: 217981 entries, 0 to 217980\n",
            "Data columns (total 24 columns):\n",
            " #   Column                    Non-Null Count   Dtype  \n",
            "---  ------                    --------------   -----  \n",
            " 0   general_health            217981 non-null  float64\n",
            " 1   physical_health_days      217981 non-null  float64\n",
            " 2   mental_health_days        217981 non-null  float64\n",
            " 3   has_health_plan           217981 non-null  float64\n",
            " 4   meets_aerobic_guidelines  217981 non-null  float64\n",
            " 5   physical_activity_150min  217981 non-null  float64\n",
            " 6   muscle_strengthening      217981 non-null  float64\n",
            " 7   high_blood_pressure       217981 non-null  float64\n",
            " 8   high_cholesterol          217981 non-null  float64\n",
            " 9   heart_disease             217981 non-null  float64\n",
            " 10  lifetime_asthma           217981 non-null  float64\n",
            " 11  arthritis                 217981 non-null  float64\n",
            " 12  sex                       217981 non-null  float64\n",
            " 13  age                       217981 non-null  float64\n",
            " 14  height_inches             217981 non-null  float64\n",
            " 15  bmi                       217981 non-null  float64\n",
            " 16  education_level           217981 non-null  float64\n",
            " 17  income_group              217981 non-null  float64\n",
            " 18  smoking_status            217981 non-null  float64\n",
            " 19  alcohol_consumption       217981 non-null  float64\n",
            " 20  binge_drinking            217981 non-null  float64\n",
            " 21  heavy_drinking            217981 non-null  float64\n",
            " 22  diabetes_status           217981 non-null  float64\n",
            " 23  difficulty_walking        217981 non-null  float64\n",
            "dtypes: float64(24)\n",
            "memory usage: 39.9 MB\n"
          ]
        },
        {
          "output_type": "execute_result",
          "data": {
            "text/plain": [
              "Index(['general_health', 'physical_health_days', 'mental_health_days',\n",
              "       'has_health_plan', 'meets_aerobic_guidelines',\n",
              "       'physical_activity_150min', 'muscle_strengthening',\n",
              "       'high_blood_pressure', 'high_cholesterol', 'heart_disease',\n",
              "       'lifetime_asthma', 'arthritis', 'sex', 'age', 'height_inches', 'bmi',\n",
              "       'education_level', 'income_group', 'smoking_status',\n",
              "       'alcohol_consumption', 'binge_drinking', 'heavy_drinking',\n",
              "       'diabetes_status', 'difficulty_walking'],\n",
              "      dtype='object')"
            ]
          },
          "metadata": {},
          "execution_count": 2
        }
      ],
      "source": [
        "# Importing pandas and numpy library\n",
        "import pandas as pd\n",
        "import numpy as np\n",
        "\n",
        "# Loading in data frame\n",
        "df = pd.read_csv('/content/drive/MyDrive/diabetic/df.csv')\n",
        "\n",
        "\n",
        "\n",
        "# Deleting unnecessary column and symbolizing all non-diabetic records with 0 instead of 3.\n",
        "del df['Unnamed: 0']\n",
        "df['diabetes_status'] = df['diabetes_status'].replace(3,0)\n",
        "\n",
        "df.info()\n",
        "\n",
        "df.columns"
      ]
    },
    {
      "cell_type": "code",
      "source": [
        "for i in df.columns:\n",
        "  df[i] = df[i].astype('float32')\n",
        "df.info()"
      ],
      "metadata": {
        "colab": {
          "base_uri": "https://localhost:8080/"
        },
        "id": "1rx656h3cBEd",
        "outputId": "c12a7121-09c3-4fdf-b58c-34217b659554"
      },
      "execution_count": null,
      "outputs": [
        {
          "output_type": "stream",
          "name": "stdout",
          "text": [
            "<class 'pandas.core.frame.DataFrame'>\n",
            "RangeIndex: 217981 entries, 0 to 217980\n",
            "Data columns (total 24 columns):\n",
            " #   Column                    Non-Null Count   Dtype  \n",
            "---  ------                    --------------   -----  \n",
            " 0   general_health            217981 non-null  float32\n",
            " 1   physical_health_days      217981 non-null  float32\n",
            " 2   mental_health_days        217981 non-null  float32\n",
            " 3   has_health_plan           217981 non-null  float32\n",
            " 4   meets_aerobic_guidelines  217981 non-null  float32\n",
            " 5   physical_activity_150min  217981 non-null  float32\n",
            " 6   muscle_strengthening      217981 non-null  float32\n",
            " 7   high_blood_pressure       217981 non-null  float32\n",
            " 8   high_cholesterol          217981 non-null  float32\n",
            " 9   heart_disease             217981 non-null  float32\n",
            " 10  lifetime_asthma           217981 non-null  float32\n",
            " 11  arthritis                 217981 non-null  float32\n",
            " 12  sex                       217981 non-null  float32\n",
            " 13  age                       217981 non-null  float32\n",
            " 14  height_inches             217981 non-null  float32\n",
            " 15  bmi                       217981 non-null  float32\n",
            " 16  education_level           217981 non-null  float32\n",
            " 17  income_group              217981 non-null  float32\n",
            " 18  smoking_status            217981 non-null  float32\n",
            " 19  alcohol_consumption       217981 non-null  float32\n",
            " 20  binge_drinking            217981 non-null  float32\n",
            " 21  heavy_drinking            217981 non-null  float32\n",
            " 22  diabetes_status           217981 non-null  float32\n",
            " 23  difficulty_walking        217981 non-null  float32\n",
            "dtypes: float32(24)\n",
            "memory usage: 20.0 MB\n"
          ]
        }
      ]
    },
    {
      "cell_type": "code",
      "source": [
        "# Isolating target variable.\n",
        "df_target = df['diabetes_status']\n",
        "del df['diabetes_status']\n",
        "\n",
        "# Importing functions to split up and transform our data.\n",
        "from sklearn.preprocessing import StandardScaler, OneHotEncoder, FunctionTransformer\n",
        "from sklearn.model_selection import train_test_split\n",
        "from sklearn.pipeline import Pipeline\n",
        "from sklearn.compose import ColumnTransformer\n",
        "\n",
        "# Creating lists to contain the continuous, ordinal, and nominal variable names\n",
        "continuous = ['age','height_inches','bmi']\n",
        "\n",
        "ordinal = ['general_health', 'physical_health_days', 'mental_health_days', 'physical_activity_150min',\n",
        "           'education_level', 'income_group', 'smoking_status']\n",
        "\n",
        "nominal = ['has_health_plan', 'meets_aerobic_guidelines', 'muscle_strengthening',\n",
        "           'high_blood_pressure', 'high_cholesterol', 'heart_disease',\n",
        "           'lifetime_asthma', 'arthritis', 'sex',\n",
        "           'alcohol_consumption', 'binge_drinking', 'heavy_drinking',\n",
        "           'difficulty_walking']\n",
        "\n",
        "# Splitting up predictor and target variable into training and testing sets.\n",
        "X_train, X_test, y_train, y_test = train_test_split(df, df_target, test_size=0.30, random_state=22, stratify=df_target)\n",
        "# Utilizing stratify parameters helps ensure that the percentage or diabetic and non-diabetic individuals are around the same in the training and tests sets.\n",
        "\n",
        "# Creating pipeline to logarithmically transform and scale all continuous variables.\n",
        "continuous_pipeline = Pipeline([\n",
        "    ('log', FunctionTransformer(func=np.log1p)),\n",
        "    ('scaler', StandardScaler()),\n",
        "    ])\n",
        "\n",
        "# Creating pipeline to scale each ordinal variable.\n",
        "ordinal_pipeline = Pipeline([\n",
        "    ('scaler', StandardScaler()),\n",
        "])\n",
        "\n",
        "# Creating pipeline to one-hot encode all nominal variables while dropping the first and then scale each variable.\n",
        "nominal_pipeline = Pipeline([\n",
        "    ('one_hot', OneHotEncoder(sparse_output=False, drop='first')),\n",
        "    ('scaler', StandardScaler()),\n",
        "])\n",
        "\n",
        "# Creating a column transform to send all continuous to the continuous_pipeline, all ordinal variables to the ordinal_pipeline, and all nominal variables to the nominal_pipeline.\n",
        "column_transformer = ColumnTransformer([\n",
        "    ('cont', continuous_pipeline, continuous),\n",
        "    ('ord', ordinal_pipeline, ordinal),\n",
        "    ('nom', nominal_pipeline, nominal),\n",
        "])\n",
        "\n",
        "\n",
        "# Fitting column transform with training data and then transforming training data using the fitted column transformer.\n",
        "X_train1 = column_transformer.fit_transform(X_train)\n",
        "# Transforming testing data using the fitted column transform.\n",
        "X_test1 = column_transformer.transform(X_test)\n",
        "\n",
        "nominal_columns = column_transformer.named_transformers_['nom']['one_hot'].get_feature_names_out(nominal).tolist()\n",
        "\n",
        "correct_columns = continuous + ordinal + nominal_columns\n",
        "\n",
        "# Creating data frames based on X_train1 and X_test1 for feature importance analysis later one.\n",
        "X_train1 = pd.DataFrame(X_train1, columns=correct_columns)\n",
        "X_test1 = pd.DataFrame(X_test1, columns=correct_columns)"
      ],
      "metadata": {
        "id": "InALV0qUbz4L"
      },
      "execution_count": null,
      "outputs": []
    },
    {
      "cell_type": "code",
      "source": [
        "X_train1.head()"
      ],
      "metadata": {
        "id": "WkNtKEGXcWtp",
        "colab": {
          "base_uri": "https://localhost:8080/",
          "height": 1000
        },
        "outputId": "662f78b1-2ea1-4032-ede6-30eb50e79096"
      },
      "execution_count": null,
      "outputs": [
        {
          "output_type": "execute_result",
          "data": {
            "text/plain": [
              "        age  height_inches       bmi  general_health  physical_health_days  \\\n",
              "0 -0.186894       1.574059 -3.222404        0.439036              2.951524   \n",
              "1 -0.691372      -1.032328  0.052506        2.378831             -0.503027   \n",
              "2  0.837489       0.903223 -0.023848       -0.530861             -0.503027   \n",
              "3 -2.056301       0.903223  0.645197        0.439036             -0.503027   \n",
              "4 -0.979195      -1.032328  0.616740       -0.530861             -0.503027   \n",
              "\n",
              "   mental_health_days  physical_activity_150min  education_level  \\\n",
              "0           -0.514054                 -0.697145        -1.347789   \n",
              "1            3.246575                  1.614918        -1.347789   \n",
              "2           -0.514054                  1.614918        -1.347789   \n",
              "3            3.246575                 -0.697145        -1.347789   \n",
              "4            1.366260                  0.458887        -0.229358   \n",
              "\n",
              "   income_group  smoking_status  ...  high_blood_pressure_1.0  \\\n",
              "0     -2.396734        0.663240  ...                 0.864520   \n",
              "1      0.189562        0.663240  ...                 0.864520   \n",
              "2     -0.457012        0.663240  ...                -1.156711   \n",
              "3      0.189562       -0.494853  ...                 0.864520   \n",
              "4      0.189562       -0.494853  ...                 0.864520   \n",
              "\n",
              "   high_cholesterol_1.0  heart_disease_1.0  lifetime_asthma_1.0  \\\n",
              "0              0.847498          -0.314338             0.416234   \n",
              "1              0.847498          -0.314338             0.416234   \n",
              "2             -1.179944          -0.314338             0.416234   \n",
              "3              0.847498          -0.314338            -2.402492   \n",
              "4              0.847498          -0.314338             0.416234   \n",
              "\n",
              "   arthritis_1.0   sex_1.0  alcohol_consumption_1.0  binge_drinking_1.0  \\\n",
              "0       1.358582  1.016614                -1.141708            0.402352   \n",
              "1       1.358582 -0.983658                -1.141708            0.402352   \n",
              "2      -0.736062  1.016614                 0.875880            0.402352   \n",
              "3      -0.736062  1.016614                 0.875880            0.402352   \n",
              "4      -0.736062 -0.983658                -1.141708            0.402352   \n",
              "\n",
              "   heavy_drinking_1.0  difficulty_walking_1.0  \n",
              "0            0.260923                2.374006  \n",
              "1            0.260923               -0.421229  \n",
              "2           -3.832553               -0.421229  \n",
              "3            0.260923               -0.421229  \n",
              "4            0.260923               -0.421229  \n",
              "\n",
              "[5 rows x 23 columns]"
            ],
            "text/html": [
              "\n",
              "  <div id=\"df-214b1cca-2d24-43b9-8d41-0d2079633adc\" class=\"colab-df-container\">\n",
              "    <div>\n",
              "<style scoped>\n",
              "    .dataframe tbody tr th:only-of-type {\n",
              "        vertical-align: middle;\n",
              "    }\n",
              "\n",
              "    .dataframe tbody tr th {\n",
              "        vertical-align: top;\n",
              "    }\n",
              "\n",
              "    .dataframe thead th {\n",
              "        text-align: right;\n",
              "    }\n",
              "</style>\n",
              "<table border=\"1\" class=\"dataframe\">\n",
              "  <thead>\n",
              "    <tr style=\"text-align: right;\">\n",
              "      <th></th>\n",
              "      <th>age</th>\n",
              "      <th>height_inches</th>\n",
              "      <th>bmi</th>\n",
              "      <th>general_health</th>\n",
              "      <th>physical_health_days</th>\n",
              "      <th>mental_health_days</th>\n",
              "      <th>physical_activity_150min</th>\n",
              "      <th>education_level</th>\n",
              "      <th>income_group</th>\n",
              "      <th>smoking_status</th>\n",
              "      <th>...</th>\n",
              "      <th>high_blood_pressure_1.0</th>\n",
              "      <th>high_cholesterol_1.0</th>\n",
              "      <th>heart_disease_1.0</th>\n",
              "      <th>lifetime_asthma_1.0</th>\n",
              "      <th>arthritis_1.0</th>\n",
              "      <th>sex_1.0</th>\n",
              "      <th>alcohol_consumption_1.0</th>\n",
              "      <th>binge_drinking_1.0</th>\n",
              "      <th>heavy_drinking_1.0</th>\n",
              "      <th>difficulty_walking_1.0</th>\n",
              "    </tr>\n",
              "  </thead>\n",
              "  <tbody>\n",
              "    <tr>\n",
              "      <th>0</th>\n",
              "      <td>-0.186894</td>\n",
              "      <td>1.574059</td>\n",
              "      <td>-3.222404</td>\n",
              "      <td>0.439036</td>\n",
              "      <td>2.951524</td>\n",
              "      <td>-0.514054</td>\n",
              "      <td>-0.697145</td>\n",
              "      <td>-1.347789</td>\n",
              "      <td>-2.396734</td>\n",
              "      <td>0.663240</td>\n",
              "      <td>...</td>\n",
              "      <td>0.864520</td>\n",
              "      <td>0.847498</td>\n",
              "      <td>-0.314338</td>\n",
              "      <td>0.416234</td>\n",
              "      <td>1.358582</td>\n",
              "      <td>1.016614</td>\n",
              "      <td>-1.141708</td>\n",
              "      <td>0.402352</td>\n",
              "      <td>0.260923</td>\n",
              "      <td>2.374006</td>\n",
              "    </tr>\n",
              "    <tr>\n",
              "      <th>1</th>\n",
              "      <td>-0.691372</td>\n",
              "      <td>-1.032328</td>\n",
              "      <td>0.052506</td>\n",
              "      <td>2.378831</td>\n",
              "      <td>-0.503027</td>\n",
              "      <td>3.246575</td>\n",
              "      <td>1.614918</td>\n",
              "      <td>-1.347789</td>\n",
              "      <td>0.189562</td>\n",
              "      <td>0.663240</td>\n",
              "      <td>...</td>\n",
              "      <td>0.864520</td>\n",
              "      <td>0.847498</td>\n",
              "      <td>-0.314338</td>\n",
              "      <td>0.416234</td>\n",
              "      <td>1.358582</td>\n",
              "      <td>-0.983658</td>\n",
              "      <td>-1.141708</td>\n",
              "      <td>0.402352</td>\n",
              "      <td>0.260923</td>\n",
              "      <td>-0.421229</td>\n",
              "    </tr>\n",
              "    <tr>\n",
              "      <th>2</th>\n",
              "      <td>0.837489</td>\n",
              "      <td>0.903223</td>\n",
              "      <td>-0.023848</td>\n",
              "      <td>-0.530861</td>\n",
              "      <td>-0.503027</td>\n",
              "      <td>-0.514054</td>\n",
              "      <td>1.614918</td>\n",
              "      <td>-1.347789</td>\n",
              "      <td>-0.457012</td>\n",
              "      <td>0.663240</td>\n",
              "      <td>...</td>\n",
              "      <td>-1.156711</td>\n",
              "      <td>-1.179944</td>\n",
              "      <td>-0.314338</td>\n",
              "      <td>0.416234</td>\n",
              "      <td>-0.736062</td>\n",
              "      <td>1.016614</td>\n",
              "      <td>0.875880</td>\n",
              "      <td>0.402352</td>\n",
              "      <td>-3.832553</td>\n",
              "      <td>-0.421229</td>\n",
              "    </tr>\n",
              "    <tr>\n",
              "      <th>3</th>\n",
              "      <td>-2.056301</td>\n",
              "      <td>0.903223</td>\n",
              "      <td>0.645197</td>\n",
              "      <td>0.439036</td>\n",
              "      <td>-0.503027</td>\n",
              "      <td>3.246575</td>\n",
              "      <td>-0.697145</td>\n",
              "      <td>-1.347789</td>\n",
              "      <td>0.189562</td>\n",
              "      <td>-0.494853</td>\n",
              "      <td>...</td>\n",
              "      <td>0.864520</td>\n",
              "      <td>0.847498</td>\n",
              "      <td>-0.314338</td>\n",
              "      <td>-2.402492</td>\n",
              "      <td>-0.736062</td>\n",
              "      <td>1.016614</td>\n",
              "      <td>0.875880</td>\n",
              "      <td>0.402352</td>\n",
              "      <td>0.260923</td>\n",
              "      <td>-0.421229</td>\n",
              "    </tr>\n",
              "    <tr>\n",
              "      <th>4</th>\n",
              "      <td>-0.979195</td>\n",
              "      <td>-1.032328</td>\n",
              "      <td>0.616740</td>\n",
              "      <td>-0.530861</td>\n",
              "      <td>-0.503027</td>\n",
              "      <td>1.366260</td>\n",
              "      <td>0.458887</td>\n",
              "      <td>-0.229358</td>\n",
              "      <td>0.189562</td>\n",
              "      <td>-0.494853</td>\n",
              "      <td>...</td>\n",
              "      <td>0.864520</td>\n",
              "      <td>0.847498</td>\n",
              "      <td>-0.314338</td>\n",
              "      <td>0.416234</td>\n",
              "      <td>-0.736062</td>\n",
              "      <td>-0.983658</td>\n",
              "      <td>-1.141708</td>\n",
              "      <td>0.402352</td>\n",
              "      <td>0.260923</td>\n",
              "      <td>-0.421229</td>\n",
              "    </tr>\n",
              "  </tbody>\n",
              "</table>\n",
              "<p>5 rows × 23 columns</p>\n",
              "</div>\n",
              "    <div class=\"colab-df-buttons\">\n",
              "\n",
              "  <div class=\"colab-df-container\">\n",
              "    <button class=\"colab-df-convert\" onclick=\"convertToInteractive('df-214b1cca-2d24-43b9-8d41-0d2079633adc')\"\n",
              "            title=\"Convert this dataframe to an interactive table.\"\n",
              "            style=\"display:none;\">\n",
              "\n",
              "  <svg xmlns=\"http://www.w3.org/2000/svg\" height=\"24px\" viewBox=\"0 -960 960 960\">\n",
              "    <path d=\"M120-120v-720h720v720H120Zm60-500h600v-160H180v160Zm220 220h160v-160H400v160Zm0 220h160v-160H400v160ZM180-400h160v-160H180v160Zm440 0h160v-160H620v160ZM180-180h160v-160H180v160Zm440 0h160v-160H620v160Z\"/>\n",
              "  </svg>\n",
              "    </button>\n",
              "\n",
              "  <style>\n",
              "    .colab-df-container {\n",
              "      display:flex;\n",
              "      gap: 12px;\n",
              "    }\n",
              "\n",
              "    .colab-df-convert {\n",
              "      background-color: #E8F0FE;\n",
              "      border: none;\n",
              "      border-radius: 50%;\n",
              "      cursor: pointer;\n",
              "      display: none;\n",
              "      fill: #1967D2;\n",
              "      height: 32px;\n",
              "      padding: 0 0 0 0;\n",
              "      width: 32px;\n",
              "    }\n",
              "\n",
              "    .colab-df-convert:hover {\n",
              "      background-color: #E2EBFA;\n",
              "      box-shadow: 0px 1px 2px rgba(60, 64, 67, 0.3), 0px 1px 3px 1px rgba(60, 64, 67, 0.15);\n",
              "      fill: #174EA6;\n",
              "    }\n",
              "\n",
              "    .colab-df-buttons div {\n",
              "      margin-bottom: 4px;\n",
              "    }\n",
              "\n",
              "    [theme=dark] .colab-df-convert {\n",
              "      background-color: #3B4455;\n",
              "      fill: #D2E3FC;\n",
              "    }\n",
              "\n",
              "    [theme=dark] .colab-df-convert:hover {\n",
              "      background-color: #434B5C;\n",
              "      box-shadow: 0px 1px 3px 1px rgba(0, 0, 0, 0.15);\n",
              "      filter: drop-shadow(0px 1px 2px rgba(0, 0, 0, 0.3));\n",
              "      fill: #FFFFFF;\n",
              "    }\n",
              "  </style>\n",
              "\n",
              "    <script>\n",
              "      const buttonEl =\n",
              "        document.querySelector('#df-214b1cca-2d24-43b9-8d41-0d2079633adc button.colab-df-convert');\n",
              "      buttonEl.style.display =\n",
              "        google.colab.kernel.accessAllowed ? 'block' : 'none';\n",
              "\n",
              "      async function convertToInteractive(key) {\n",
              "        const element = document.querySelector('#df-214b1cca-2d24-43b9-8d41-0d2079633adc');\n",
              "        const dataTable =\n",
              "          await google.colab.kernel.invokeFunction('convertToInteractive',\n",
              "                                                    [key], {});\n",
              "        if (!dataTable) return;\n",
              "\n",
              "        const docLinkHtml = 'Like what you see? Visit the ' +\n",
              "          '<a target=\"_blank\" href=https://colab.research.google.com/notebooks/data_table.ipynb>data table notebook</a>'\n",
              "          + ' to learn more about interactive tables.';\n",
              "        element.innerHTML = '';\n",
              "        dataTable['output_type'] = 'display_data';\n",
              "        await google.colab.output.renderOutput(dataTable, element);\n",
              "        const docLink = document.createElement('div');\n",
              "        docLink.innerHTML = docLinkHtml;\n",
              "        element.appendChild(docLink);\n",
              "      }\n",
              "    </script>\n",
              "  </div>\n",
              "\n",
              "\n",
              "<div id=\"df-6d42e009-5b02-49af-b678-983f6e251ce6\">\n",
              "  <button class=\"colab-df-quickchart\" onclick=\"quickchart('df-6d42e009-5b02-49af-b678-983f6e251ce6')\"\n",
              "            title=\"Suggest charts\"\n",
              "            style=\"display:none;\">\n",
              "\n",
              "<svg xmlns=\"http://www.w3.org/2000/svg\" height=\"24px\"viewBox=\"0 0 24 24\"\n",
              "     width=\"24px\">\n",
              "    <g>\n",
              "        <path d=\"M19 3H5c-1.1 0-2 .9-2 2v14c0 1.1.9 2 2 2h14c1.1 0 2-.9 2-2V5c0-1.1-.9-2-2-2zM9 17H7v-7h2v7zm4 0h-2V7h2v10zm4 0h-2v-4h2v4z\"/>\n",
              "    </g>\n",
              "</svg>\n",
              "  </button>\n",
              "\n",
              "<style>\n",
              "  .colab-df-quickchart {\n",
              "      --bg-color: #E8F0FE;\n",
              "      --fill-color: #1967D2;\n",
              "      --hover-bg-color: #E2EBFA;\n",
              "      --hover-fill-color: #174EA6;\n",
              "      --disabled-fill-color: #AAA;\n",
              "      --disabled-bg-color: #DDD;\n",
              "  }\n",
              "\n",
              "  [theme=dark] .colab-df-quickchart {\n",
              "      --bg-color: #3B4455;\n",
              "      --fill-color: #D2E3FC;\n",
              "      --hover-bg-color: #434B5C;\n",
              "      --hover-fill-color: #FFFFFF;\n",
              "      --disabled-bg-color: #3B4455;\n",
              "      --disabled-fill-color: #666;\n",
              "  }\n",
              "\n",
              "  .colab-df-quickchart {\n",
              "    background-color: var(--bg-color);\n",
              "    border: none;\n",
              "    border-radius: 50%;\n",
              "    cursor: pointer;\n",
              "    display: none;\n",
              "    fill: var(--fill-color);\n",
              "    height: 32px;\n",
              "    padding: 0;\n",
              "    width: 32px;\n",
              "  }\n",
              "\n",
              "  .colab-df-quickchart:hover {\n",
              "    background-color: var(--hover-bg-color);\n",
              "    box-shadow: 0 1px 2px rgba(60, 64, 67, 0.3), 0 1px 3px 1px rgba(60, 64, 67, 0.15);\n",
              "    fill: var(--button-hover-fill-color);\n",
              "  }\n",
              "\n",
              "  .colab-df-quickchart-complete:disabled,\n",
              "  .colab-df-quickchart-complete:disabled:hover {\n",
              "    background-color: var(--disabled-bg-color);\n",
              "    fill: var(--disabled-fill-color);\n",
              "    box-shadow: none;\n",
              "  }\n",
              "\n",
              "  .colab-df-spinner {\n",
              "    border: 2px solid var(--fill-color);\n",
              "    border-color: transparent;\n",
              "    border-bottom-color: var(--fill-color);\n",
              "    animation:\n",
              "      spin 1s steps(1) infinite;\n",
              "  }\n",
              "\n",
              "  @keyframes spin {\n",
              "    0% {\n",
              "      border-color: transparent;\n",
              "      border-bottom-color: var(--fill-color);\n",
              "      border-left-color: var(--fill-color);\n",
              "    }\n",
              "    20% {\n",
              "      border-color: transparent;\n",
              "      border-left-color: var(--fill-color);\n",
              "      border-top-color: var(--fill-color);\n",
              "    }\n",
              "    30% {\n",
              "      border-color: transparent;\n",
              "      border-left-color: var(--fill-color);\n",
              "      border-top-color: var(--fill-color);\n",
              "      border-right-color: var(--fill-color);\n",
              "    }\n",
              "    40% {\n",
              "      border-color: transparent;\n",
              "      border-right-color: var(--fill-color);\n",
              "      border-top-color: var(--fill-color);\n",
              "    }\n",
              "    60% {\n",
              "      border-color: transparent;\n",
              "      border-right-color: var(--fill-color);\n",
              "    }\n",
              "    80% {\n",
              "      border-color: transparent;\n",
              "      border-right-color: var(--fill-color);\n",
              "      border-bottom-color: var(--fill-color);\n",
              "    }\n",
              "    90% {\n",
              "      border-color: transparent;\n",
              "      border-bottom-color: var(--fill-color);\n",
              "    }\n",
              "  }\n",
              "</style>\n",
              "\n",
              "  <script>\n",
              "    async function quickchart(key) {\n",
              "      const quickchartButtonEl =\n",
              "        document.querySelector('#' + key + ' button');\n",
              "      quickchartButtonEl.disabled = true;  // To prevent multiple clicks.\n",
              "      quickchartButtonEl.classList.add('colab-df-spinner');\n",
              "      try {\n",
              "        const charts = await google.colab.kernel.invokeFunction(\n",
              "            'suggestCharts', [key], {});\n",
              "      } catch (error) {\n",
              "        console.error('Error during call to suggestCharts:', error);\n",
              "      }\n",
              "      quickchartButtonEl.classList.remove('colab-df-spinner');\n",
              "      quickchartButtonEl.classList.add('colab-df-quickchart-complete');\n",
              "    }\n",
              "    (() => {\n",
              "      let quickchartButtonEl =\n",
              "        document.querySelector('#df-6d42e009-5b02-49af-b678-983f6e251ce6 button');\n",
              "      quickchartButtonEl.style.display =\n",
              "        google.colab.kernel.accessAllowed ? 'block' : 'none';\n",
              "    })();\n",
              "  </script>\n",
              "</div>\n",
              "\n",
              "    </div>\n",
              "  </div>\n"
            ],
            "application/vnd.google.colaboratory.intrinsic+json": {
              "type": "dataframe",
              "variable_name": "X_train1"
            }
          },
          "metadata": {},
          "execution_count": 5
        }
      ]
    },
    {
      "cell_type": "code",
      "execution_count": null,
      "metadata": {
        "id": "TjTYl6oIbO51"
      },
      "outputs": [],
      "source": [
        "from sklearn.linear_model import LogisticRegression\n",
        "from sklearn.metrics import f1_score"
      ]
    },
    {
      "cell_type": "code",
      "execution_count": null,
      "metadata": {
        "id": "Ks_9zaJ5bO52"
      },
      "outputs": [],
      "source": [
        "# Importing grid search cv function, stratified fold function for cv, and make scorer function for custom scoring metric\n",
        "from sklearn.model_selection import RandomizedSearchCV, StratifiedKFold"
      ]
    },
    {
      "cell_type": "code",
      "source": [
        "y_train.head()"
      ],
      "metadata": {
        "colab": {
          "base_uri": "https://localhost:8080/",
          "height": 1000
        },
        "id": "Pxg-Vy8h3m2q",
        "outputId": "ea53c5d8-cee8-40ac-8b8f-6ebea6dbd931"
      },
      "execution_count": null,
      "outputs": [
        {
          "output_type": "execute_result",
          "data": {
            "text/plain": [
              "180036    0.0\n",
              "106667    1.0\n",
              "41133     0.0\n",
              "178616    0.0\n",
              "42232     0.0\n",
              "Name: diabetes_status, dtype: float32"
            ],
            "text/html": [
              "<div>\n",
              "<style scoped>\n",
              "    .dataframe tbody tr th:only-of-type {\n",
              "        vertical-align: middle;\n",
              "    }\n",
              "\n",
              "    .dataframe tbody tr th {\n",
              "        vertical-align: top;\n",
              "    }\n",
              "\n",
              "    .dataframe thead th {\n",
              "        text-align: right;\n",
              "    }\n",
              "</style>\n",
              "<table border=\"1\" class=\"dataframe\">\n",
              "  <thead>\n",
              "    <tr style=\"text-align: right;\">\n",
              "      <th></th>\n",
              "      <th>diabetes_status</th>\n",
              "    </tr>\n",
              "  </thead>\n",
              "  <tbody>\n",
              "    <tr>\n",
              "      <th>180036</th>\n",
              "      <td>0.0</td>\n",
              "    </tr>\n",
              "    <tr>\n",
              "      <th>106667</th>\n",
              "      <td>1.0</td>\n",
              "    </tr>\n",
              "    <tr>\n",
              "      <th>41133</th>\n",
              "      <td>0.0</td>\n",
              "    </tr>\n",
              "    <tr>\n",
              "      <th>178616</th>\n",
              "      <td>0.0</td>\n",
              "    </tr>\n",
              "    <tr>\n",
              "      <th>42232</th>\n",
              "      <td>0.0</td>\n",
              "    </tr>\n",
              "  </tbody>\n",
              "</table>\n",
              "</div><br><label><b>dtype:</b> float32</label>"
            ]
          },
          "metadata": {},
          "execution_count": 17
        }
      ]
    },
    {
      "cell_type": "code",
      "execution_count": null,
      "metadata": {
        "colab": {
          "base_uri": "https://localhost:8080/"
        },
        "id": "AuQubi3ebO52",
        "outputId": "c60cfc4f-9a77-4b51-d8b5-ed3765a2074d"
      },
      "outputs": [
        {
          "output_type": "stream",
          "name": "stdout",
          "text": [
            "f1_score on training data: 0.46\n",
            "0.5111452400921723\n",
            "f1_score on testing data: 0.46\n"
          ]
        }
      ],
      "source": [
        "# Creating a HistGradientBoostingClassifier model, hgbc, with random state set to 42 and class_weight to balanced.\n",
        "lg = LogisticRegression(random_state=42, class_weight='balanced')\n",
        "\n",
        "# Fitting hgbc with training data.\n",
        "lg.fit(X_train1, y_train)\n",
        "\n",
        "# Calculating f1_score on training data.\n",
        "pred_target = lg.predict(X_train1)\n",
        "f1_train = f1_score(y_train, pred_target, pos_label=1.0)\n",
        "print('f1_score on training data:', np.round(f1_train,2))\n",
        "print(lg.predict_proba(X_train1)[1,0])\n",
        "# Calculating f1_score on testing data.\n",
        "pred_target = lg.predict(X_test1)\n",
        "f1_test = f1_score(y_test, pred_target,pos_label=1.0)\n",
        "print('f1_score on testing data:', np.round(f1_test,2))"
      ]
    },
    {
      "cell_type": "code",
      "execution_count": null,
      "metadata": {
        "colab": {
          "base_uri": "https://localhost:8080/"
        },
        "id": "HXImUJH6bO52",
        "outputId": "64a2f119-0915-4629-fdd3-0ab895d30f91"
      },
      "outputs": [
        {
          "output_type": "stream",
          "name": "stderr",
          "text": [
            "/usr/local/lib/python3.11/dist-packages/sklearn/model_selection/_search.py:317: UserWarning: The total space of parameters 16 is smaller than n_iter=40. Running 16 iterations. For exhaustive searches, use GridSearchCV.\n",
            "  warnings.warn(\n"
          ]
        },
        {
          "output_type": "stream",
          "name": "stdout",
          "text": [
            "Fitting 4 folds for each of 16 candidates, totalling 64 fits\n",
            "{'max_iter': 25, 'class_weight': {0: 1, 1: 5.69}}\n",
            "f1_score on training data: 0.46\n",
            "f1_score on testing data: 0.46\n"
          ]
        }
      ],
      "source": [
        "# Creating list to house dictionary of possible parameter values.\n",
        "param_dist = [{\n",
        "    'max_iter': [25, 50, 100, 150],\n",
        "    'class_weight': [{0:1, 1:w} for w in [1, 2, 3, 5.69]]\n",
        "}]\n",
        "\n",
        "# Creating initial HistGradientBoostingClassifier model.\n",
        "lg = LogisticRegression(random_state=42)\n",
        "# Creating initial RandomizedSearchCV function.\n",
        "rand_search = RandomizedSearchCV(lg, param_distributions=param_dist,\n",
        "                                scoring= 'balanced_accuracy',\n",
        "                                cv=StratifiedKFold(n_splits=4),\n",
        "                                verbose=1, n_iter=40, random_state=22)\n",
        "# Fitting rand_search with training data.\n",
        "rand_search.fit(X_train1, y_train)\n",
        "\n",
        "# Printing the best parameters from the best estimator from rand_search.\n",
        "print(rand_search.best_params_)\n",
        "\n",
        "best_estimator = rand_search.best_estimator_\n",
        "# Calculating f1_score on training data.\n",
        "pred_target = best_estimator.predict(X_train1)\n",
        "f1_train = f1_score(y_train, pred_target, pos_label=1.0)\n",
        "print('f1_score on training data:', np.round(f1_train,2))\n",
        "\n",
        "# Calculating f1_score on testing data.\n",
        "pred_target = best_estimator.predict(X_test1)\n",
        "f1_test = f1_score(y_test, pred_target,pos_label=1.0)\n",
        "print('f1_score on testing data:', np.round(f1_test,2))"
      ]
    },
    {
      "cell_type": "code",
      "source": [
        "pred_df = column_transformer.fit_transform(df)\n",
        "\n",
        "nominal_columns = column_transformer.named_transformers_['nom']['one_hot'].get_feature_names_out(nominal).tolist()\n",
        "\n",
        "correct_columns = continuous + ordinal + nominal_columns\n",
        "\n",
        "pred_df = pd.DataFrame(pred_df, columns=correct_columns)"
      ],
      "metadata": {
        "id": "FGLplVq9pFEu"
      },
      "execution_count": null,
      "outputs": []
    },
    {
      "cell_type": "code",
      "source": [
        "lg = LogisticRegression(random_state=42, class_weight={0:1, 1:5.69}, max_iter=25)\n",
        "lg.fit(pred_df, df_target)\n",
        "\n",
        "pred_target = lg.predict(pred_df)\n",
        "f1_train = f1_score(df_target, pred_target, pos_label=1.0)\n",
        "print('f1_score on training data:', np.round(f1_train,2))\n"
      ],
      "metadata": {
        "colab": {
          "base_uri": "https://localhost:8080/"
        },
        "id": "1MPhbZuppPKg",
        "outputId": "ea31453b-2ef8-4d13-d544-bad6aacebd4a"
      },
      "execution_count": null,
      "outputs": [
        {
          "output_type": "stream",
          "name": "stdout",
          "text": [
            "f1_score on training data: 0.46\n"
          ]
        }
      ]
    },
    {
      "cell_type": "code",
      "source": [
        "import joblib"
      ],
      "metadata": {
        "id": "_CEbZQTcpokS"
      },
      "execution_count": null,
      "outputs": []
    },
    {
      "cell_type": "code",
      "source": [
        "joblib.dump(lg, 'lg.joblib.diab')"
      ],
      "metadata": {
        "colab": {
          "base_uri": "https://localhost:8080/"
        },
        "id": "MQ1MtrHxsbgN",
        "outputId": "8d73e544-0209-4de3-c168-c6004546fc1d"
      },
      "execution_count": null,
      "outputs": [
        {
          "output_type": "execute_result",
          "data": {
            "text/plain": [
              "['lg.joblib.diab']"
            ]
          },
          "metadata": {},
          "execution_count": 47
        }
      ]
    },
    {
      "cell_type": "code",
      "source": [
        "joblib.dump(column_transformer, 'column_transformer.joblib.diab')"
      ],
      "metadata": {
        "colab": {
          "base_uri": "https://localhost:8080/"
        },
        "id": "c5r1go21rj1M",
        "outputId": "71d7aa6f-8af1-47a8-e3c6-725566f01028"
      },
      "execution_count": null,
      "outputs": [
        {
          "output_type": "execute_result",
          "data": {
            "text/plain": [
              "['column_transformer.joblib.diab']"
            ]
          },
          "metadata": {},
          "execution_count": 48
        }
      ]
    },
    {
      "cell_type": "code",
      "source": [
        "lg_diab = pickle.dumps(lg)"
      ],
      "metadata": {
        "id": "3tIKyuLdr2yz"
      },
      "execution_count": null,
      "outputs": []
    },
    {
      "cell_type": "code",
      "source": [],
      "metadata": {
        "id": "utR66HQxrlnw"
      },
      "execution_count": null,
      "outputs": []
    }
  ],
  "metadata": {
    "kernelspec": {
      "display_name": "Python 3",
      "language": "python",
      "name": "python3"
    },
    "language_info": {
      "codemirror_mode": {
        "name": "ipython",
        "version": 3
      },
      "file_extension": ".py",
      "mimetype": "text/x-python",
      "name": "python",
      "nbconvert_exporter": "python",
      "pygments_lexer": "ipython3",
      "version": "3.11.1"
    },
    "colab": {
      "provenance": []
    }
  },
  "nbformat": 4,
  "nbformat_minor": 0
}