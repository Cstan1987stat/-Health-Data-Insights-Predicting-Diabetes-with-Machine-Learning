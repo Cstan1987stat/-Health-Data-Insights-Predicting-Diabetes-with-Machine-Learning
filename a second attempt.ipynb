{
 "cells": [
  {
   "cell_type": "markdown",
   "metadata": {},
   "source": [
    "### Loading in and preprocessing the data"
   ]
  },
  {
   "cell_type": "code",
   "execution_count": 56,
   "metadata": {},
   "outputs": [],
   "source": [
    "# Importing pandas and numpy library\n",
    "import pandas as pd\n",
    "import numpy as np\n",
    "\n",
    "# Loading in data frame\n",
    "df = pd.read_csv('df.csv')\n",
    "\n",
    "# Deleting unnecessary column and symbolizing all non-diabetic records with 0 instead of 3.\n",
    "del df['Unnamed: 0']\n",
    "df['diabetes_status'] = df['diabetes_status'].replace(3,0)\n",
    "\n",
    "# Isolating target variable. \n",
    "df_target = df['diabetes_status']\n",
    "del df['diabetes_status']"
   ]
  },
  {
   "cell_type": "code",
   "execution_count": 57,
   "metadata": {},
   "outputs": [],
   "source": [
    "# Importing functions to split up and transform our data.\n",
    "from sklearn.preprocessing import MinMaxScaler, OneHotEncoder, FunctionTransformer\n",
    "from sklearn.model_selection import train_test_split\n",
    "from sklearn.pipeline import Pipeline\n",
    "from sklearn.compose import ColumnTransformer"
   ]
  },
  {
   "cell_type": "code",
   "execution_count": null,
   "metadata": {},
   "outputs": [],
   "source": [
    "# Creating lists to contain the continuous variable names and the discrete variable names.\n",
    "cont = ['age','height_inches','bmi']\n",
    "disc = ['general_health', 'physical_health_days', 'mental_health_days',\n",
    "       'has_health_plan', 'meets_aerobic_guidelines',\n",
    "       'physical_activity_150min', 'muscle_strengthening',\n",
    "       'high_blood_pressure', 'high_cholesterol', 'heart_disease',\n",
    "       'lifetime_asthma', 'arthritis', 'sex', \n",
    "       'education_level', 'income_group', 'smoking_status',\n",
    "       'alcohol_consumption', 'binge_drinking', 'heavy_drinking',\n",
    "       'difficulty_walking']"
   ]
  },
  {
   "cell_type": "code",
   "execution_count": 59,
   "metadata": {},
   "outputs": [],
   "source": [
    "# Splitting up predictor and target variable into training and testing sets.\n",
    "X_train, X_test, y_train, y_test = train_test_split(df, df_target, test_size=0.30, random_state=22, stratify=df_target)\n",
    "# Utilizing stratify parameters helps ensure that the percentage or diabetic and non-diabetic individuals are around the same in the training and tests sets.\n",
    "\n",
    "# Creating pipeline to logarithmically transform and min max scale all continuous variables.\n",
    "cont_pipeline = Pipeline([\n",
    "    ('log', FunctionTransformer(func=np.log1p)),\n",
    "    ('scaler', MinMaxScaler()),\n",
    "    ])\n",
    "\n",
    "# Creating pipeline to one hot encode all discrete variables while dropping the first.\n",
    "disc_pipeline = Pipeline([\n",
    "    ('one_hot', OneHotEncoder(sparse_output=False, drop='first'))\n",
    "])\n",
    "\n",
    "# Creating a column transform to send all discrete variable to disc_pipeline and all continuous variables to cont_pipeline.\n",
    "column_transformer = ColumnTransformer([\n",
    "    ('cont', cont_pipeline, cont),\n",
    "    ('disc', disc_pipeline, disc),\n",
    "])\n",
    "\n",
    "# Fitting column transform with training data and then transforming training data using the fitted column transformer.\n",
    "X_train1 = column_transformer.fit_transform(X_train)\n",
    "# Transforming testing data using the fitted column transform.\n",
    "X_test1 = column_transformer.transform(X_test)\n",
    "\n",
    "# Creating data frames based on X_train1 and X_test1 for feature importance analysis later one.\n",
    "X_train1 = pd.DataFrame(X_train1)\n",
    "X_test1 = pd.DataFrame(X_test1)"
   ]
  },
  {
   "cell_type": "markdown",
   "metadata": {},
   "source": [
    "## Model Building\n",
    "\n",
    "The goal of this is to once again explore different models, such as Logistic Regression, Random Forest Classifier, Balanced Random Forest Classifier, Hist Gradient Boosting Classifier, and XGBClassifier."
   ]
  },
  {
   "cell_type": "markdown",
   "metadata": {},
   "source": [
    "### Logistic Regression"
   ]
  },
  {
   "cell_type": "code",
   "execution_count": 60,
   "metadata": {},
   "outputs": [],
   "source": [
    "# Importing Logistic Regression and f1_score function.\n",
    "from sklearn.linear_model import LogisticRegression\n",
    "from sklearn.metrics import f1_score"
   ]
  },
  {
   "cell_type": "code",
   "execution_count": 61,
   "metadata": {},
   "outputs": [
    {
     "name": "stdout",
     "output_type": "stream",
     "text": [
      "f1 score on training data: 0.46\n",
      "f1 score on testing data: 0.46\n"
     ]
    }
   ],
   "source": [
    "# Creating Logistic Regression model with class weight set to balanced and max iterations to 500.\n",
    "lg = LogisticRegression(class_weight='balanced', max_iter=500)        # Max iter was set as the model wasn't able to find a solute with a default of 100 max iterations.\n",
    "\n",
    "# Fitting lg with training data.\n",
    "lg.fit(X_train1, y_train)\n",
    "\n",
    "# Calculating the f1_score on the training data for lg.\n",
    "pred_target = lg.predict(X_train1)\n",
    "f1_train = np.round(f1_score(y_train, pred_target),2)\n",
    "print('f1 score on training data:', f1_train)\n",
    "\n",
    "# Calculating the f1_score on the testing data for lg.\n",
    "pred_target = lg.predict(X_test1)\n",
    "f1_test = np.round(f1_score(y_test, pred_target),2)\n",
    "print('f1 score on testing data:', f1_test)"
   ]
  },
  {
   "cell_type": "markdown",
   "metadata": {},
   "source": [
    "Revisiting the 'first_model_building_process.ipynb' file, I noticed that the results—specifically the F1 score on both the training and testing datasets—remained at 0.46. Despite applying different transformations and stratifying the target variable, these changes didn’t significantly impact the model’s performance at this stage"
   ]
  },
  {
   "cell_type": "code",
   "execution_count": 62,
   "metadata": {},
   "outputs": [],
   "source": [
    "# Importing grid search cv function, stratified fold function for cv, and make scorer function for custom scoring metric\n",
    "from sklearn.model_selection import GridSearchCV, StratifiedKFold\n",
    "from sklearn.metrics import make_scorer"
   ]
  },
  {
   "cell_type": "code",
   "execution_count": 63,
   "metadata": {},
   "outputs": [
    {
     "name": "stdout",
     "output_type": "stream",
     "text": [
      "Fitting 4 folds for each of 16 candidates, totalling 64 fits\n"
     ]
    },
    {
     "data": {
      "text/html": [
       "<style>#sk-container-id-3 {color: black;background-color: white;}#sk-container-id-3 pre{padding: 0;}#sk-container-id-3 div.sk-toggleable {background-color: white;}#sk-container-id-3 label.sk-toggleable__label {cursor: pointer;display: block;width: 100%;margin-bottom: 0;padding: 0.3em;box-sizing: border-box;text-align: center;}#sk-container-id-3 label.sk-toggleable__label-arrow:before {content: \"▸\";float: left;margin-right: 0.25em;color: #696969;}#sk-container-id-3 label.sk-toggleable__label-arrow:hover:before {color: black;}#sk-container-id-3 div.sk-estimator:hover label.sk-toggleable__label-arrow:before {color: black;}#sk-container-id-3 div.sk-toggleable__content {max-height: 0;max-width: 0;overflow: hidden;text-align: left;background-color: #f0f8ff;}#sk-container-id-3 div.sk-toggleable__content pre {margin: 0.2em;color: black;border-radius: 0.25em;background-color: #f0f8ff;}#sk-container-id-3 input.sk-toggleable__control:checked~div.sk-toggleable__content {max-height: 200px;max-width: 100%;overflow: auto;}#sk-container-id-3 input.sk-toggleable__control:checked~label.sk-toggleable__label-arrow:before {content: \"▾\";}#sk-container-id-3 div.sk-estimator input.sk-toggleable__control:checked~label.sk-toggleable__label {background-color: #d4ebff;}#sk-container-id-3 div.sk-label input.sk-toggleable__control:checked~label.sk-toggleable__label {background-color: #d4ebff;}#sk-container-id-3 input.sk-hidden--visually {border: 0;clip: rect(1px 1px 1px 1px);clip: rect(1px, 1px, 1px, 1px);height: 1px;margin: -1px;overflow: hidden;padding: 0;position: absolute;width: 1px;}#sk-container-id-3 div.sk-estimator {font-family: monospace;background-color: #f0f8ff;border: 1px dotted black;border-radius: 0.25em;box-sizing: border-box;margin-bottom: 0.5em;}#sk-container-id-3 div.sk-estimator:hover {background-color: #d4ebff;}#sk-container-id-3 div.sk-parallel-item::after {content: \"\";width: 100%;border-bottom: 1px solid gray;flex-grow: 1;}#sk-container-id-3 div.sk-label:hover label.sk-toggleable__label {background-color: #d4ebff;}#sk-container-id-3 div.sk-serial::before {content: \"\";position: absolute;border-left: 1px solid gray;box-sizing: border-box;top: 0;bottom: 0;left: 50%;z-index: 0;}#sk-container-id-3 div.sk-serial {display: flex;flex-direction: column;align-items: center;background-color: white;padding-right: 0.2em;padding-left: 0.2em;position: relative;}#sk-container-id-3 div.sk-item {position: relative;z-index: 1;}#sk-container-id-3 div.sk-parallel {display: flex;align-items: stretch;justify-content: center;background-color: white;position: relative;}#sk-container-id-3 div.sk-item::before, #sk-container-id-3 div.sk-parallel-item::before {content: \"\";position: absolute;border-left: 1px solid gray;box-sizing: border-box;top: 0;bottom: 0;left: 50%;z-index: -1;}#sk-container-id-3 div.sk-parallel-item {display: flex;flex-direction: column;z-index: 1;position: relative;background-color: white;}#sk-container-id-3 div.sk-parallel-item:first-child::after {align-self: flex-end;width: 50%;}#sk-container-id-3 div.sk-parallel-item:last-child::after {align-self: flex-start;width: 50%;}#sk-container-id-3 div.sk-parallel-item:only-child::after {width: 0;}#sk-container-id-3 div.sk-dashed-wrapped {border: 1px dashed gray;margin: 0 0.4em 0.5em 0.4em;box-sizing: border-box;padding-bottom: 0.4em;background-color: white;}#sk-container-id-3 div.sk-label label {font-family: monospace;font-weight: bold;display: inline-block;line-height: 1.2em;}#sk-container-id-3 div.sk-label-container {text-align: center;}#sk-container-id-3 div.sk-container {/* jupyter's `normalize.less` sets `[hidden] { display: none; }` but bootstrap.min.css set `[hidden] { display: none !important; }` so we also need the `!important` here to be able to override the default hidden behavior on the sphinx rendered scikit-learn.org. See: https://github.com/scikit-learn/scikit-learn/issues/21755 */display: inline-block !important;position: relative;}#sk-container-id-3 div.sk-text-repr-fallback {display: none;}</style><div id=\"sk-container-id-3\" class=\"sk-top-container\"><div class=\"sk-text-repr-fallback\"><pre>GridSearchCV(cv=StratifiedKFold(n_splits=4, random_state=None, shuffle=False),\n",
       "             estimator=LogisticRegression(max_iter=500),\n",
       "             param_grid=[{&#x27;C&#x27;: [0.001, 0.01, 0.1, 0.5],\n",
       "                          &#x27;class_weight&#x27;: [{0: 1, 1: 1}, {0: 1, 1: 2},\n",
       "                                           {0: 1, 1: 3}, {0: 1, 1: 5.69}]}],\n",
       "             scoring=make_scorer(f1_score, pos_label=1), verbose=1)</pre><b>In a Jupyter environment, please rerun this cell to show the HTML representation or trust the notebook. <br />On GitHub, the HTML representation is unable to render, please try loading this page with nbviewer.org.</b></div><div class=\"sk-container\" hidden><div class=\"sk-item sk-dashed-wrapped\"><div class=\"sk-label-container\"><div class=\"sk-label sk-toggleable\"><input class=\"sk-toggleable__control sk-hidden--visually\" id=\"sk-estimator-id-7\" type=\"checkbox\" ><label for=\"sk-estimator-id-7\" class=\"sk-toggleable__label sk-toggleable__label-arrow\">GridSearchCV</label><div class=\"sk-toggleable__content\"><pre>GridSearchCV(cv=StratifiedKFold(n_splits=4, random_state=None, shuffle=False),\n",
       "             estimator=LogisticRegression(max_iter=500),\n",
       "             param_grid=[{&#x27;C&#x27;: [0.001, 0.01, 0.1, 0.5],\n",
       "                          &#x27;class_weight&#x27;: [{0: 1, 1: 1}, {0: 1, 1: 2},\n",
       "                                           {0: 1, 1: 3}, {0: 1, 1: 5.69}]}],\n",
       "             scoring=make_scorer(f1_score, pos_label=1), verbose=1)</pre></div></div></div><div class=\"sk-parallel\"><div class=\"sk-parallel-item\"><div class=\"sk-item\"><div class=\"sk-label-container\"><div class=\"sk-label sk-toggleable\"><input class=\"sk-toggleable__control sk-hidden--visually\" id=\"sk-estimator-id-8\" type=\"checkbox\" ><label for=\"sk-estimator-id-8\" class=\"sk-toggleable__label sk-toggleable__label-arrow\">estimator: LogisticRegression</label><div class=\"sk-toggleable__content\"><pre>LogisticRegression(max_iter=500)</pre></div></div></div><div class=\"sk-serial\"><div class=\"sk-item\"><div class=\"sk-estimator sk-toggleable\"><input class=\"sk-toggleable__control sk-hidden--visually\" id=\"sk-estimator-id-9\" type=\"checkbox\" ><label for=\"sk-estimator-id-9\" class=\"sk-toggleable__label sk-toggleable__label-arrow\">LogisticRegression</label><div class=\"sk-toggleable__content\"><pre>LogisticRegression(max_iter=500)</pre></div></div></div></div></div></div></div></div></div></div>"
      ],
      "text/plain": [
       "GridSearchCV(cv=StratifiedKFold(n_splits=4, random_state=None, shuffle=False),\n",
       "             estimator=LogisticRegression(max_iter=500),\n",
       "             param_grid=[{'C': [0.001, 0.01, 0.1, 0.5],\n",
       "                          'class_weight': [{0: 1, 1: 1}, {0: 1, 1: 2},\n",
       "                                           {0: 1, 1: 3}, {0: 1, 1: 5.69}]}],\n",
       "             scoring=make_scorer(f1_score, pos_label=1), verbose=1)"
      ]
     },
     "execution_count": 63,
     "metadata": {},
     "output_type": "execute_result"
    }
   ],
   "source": [
    "# Creating list to house dictionary of possible parameter values.\n",
    "param_dist = [{\n",
    "    'C': [0.001, .01, .1, .5],\n",
    "    'class_weight': [{0: 1, 1: w} for w in [1, 2, 3, 5.69]]\n",
    "}]\n",
    "\n",
    "#  Specifying initial Logistic Regression model.\n",
    "lg = LogisticRegression(max_iter=500)\n",
    "# Creating GridSearchCV function.\n",
    "grid = GridSearchCV(lg, param_dist, \n",
    "                    cv=StratifiedKFold(n_splits=4),                    # Used to split up the data into 4 sets for cross validation while stratifying the target variable.\n",
    "                    scoring = make_scorer(f1_score, pos_label=1),      # Calling custom scoring function to calculate f1_score on 1 instances.\n",
    "                    verbose=1)                                         # Setting verbose to 1 allows the total number of fits to be printed.\n",
    "# Fitting grid with the training data.\n",
    "grid.fit(X_train1, y_train)"
   ]
  },
  {
   "cell_type": "code",
   "execution_count": 64,
   "metadata": {},
   "outputs": [
    {
     "name": "stdout",
     "output_type": "stream",
     "text": [
      "{'C': 0.1, 'class_weight': {0: 1, 1: 3}}\n"
     ]
    }
   ],
   "source": [
    "# Printing the best parameters from the best estimator from grid.\n",
    "print(grid.best_params_)"
   ]
  },
  {
   "cell_type": "markdown",
   "metadata": {},
   "source": [
    "While the class weight matched the best parameter identified in the logistic regression grid search in 'first_model_building_process.ipynb', the optimal value for the regularization parameter C differed: it was 0.1 in this case, compared to 0.001 in the earlier analysis."
   ]
  },
  {
   "cell_type": "code",
   "execution_count": 65,
   "metadata": {},
   "outputs": [
    {
     "name": "stdout",
     "output_type": "stream",
     "text": [
      "f1 score on training data: 0.47\n",
      "f1 score on testing data: 0.48\n"
     ]
    }
   ],
   "source": [
    "# Creating Logistic Regression model based on the best estimator from grid.\n",
    "lg = grid.best_estimator_\n",
    "# Fitting lg with training data.\n",
    "lg.fit(X_train1, y_train)\n",
    "# Calculating the f1_score on the training data by lg.\n",
    "pred_target = lg.predict(X_train1)\n",
    "f1_train = np.round(f1_score(y_train, pred_target),2)\n",
    "print('f1 score on training data:', f1_train)\n",
    "# Calculating the f1_score on the testing data by lg.\n",
    "pred_target = lg.predict(X_test1)\n",
    "f1_test = np.round(f1_score(y_test, pred_target),2)\n",
    "print('f1 score on testing data:', f1_test)"
   ]
  },
  {
   "cell_type": "markdown",
   "metadata": {},
   "source": [
    "While the training data remains consistent with the grid search best estimator in 'first_model_building_process.ipynb', the F1 score on the testing data improved by .1."
   ]
  },
  {
   "cell_type": "markdown",
   "metadata": {},
   "source": [
    "### Random Forest Classifier"
   ]
  },
  {
   "cell_type": "code",
   "execution_count": 66,
   "metadata": {},
   "outputs": [],
   "source": [
    "# Importing RandomForestClassifier function.\n",
    "from sklearn.ensemble import RandomForestClassifier"
   ]
  },
  {
   "cell_type": "code",
   "execution_count": 67,
   "metadata": {},
   "outputs": [
    {
     "name": "stdout",
     "output_type": "stream",
     "text": [
      "f1_score on training data: 1.0\n",
      "f1_score on testing data: 0.23\n"
     ]
    }
   ],
   "source": [
    "# Creating a RandomForestClassifier model, rfc, with random state and class_weight set to balanced.\n",
    "rfc = RandomForestClassifier(random_state=42, class_weight='balanced')\n",
    "\n",
    "# Fitting rfc with training data. \n",
    "rfc.fit(X_train1, y_train)\n",
    "\n",
    "# Calculating f1_score on training data.\n",
    "pred_target = rfc.predict(X_train1)\n",
    "f1_train = f1_score(y_train, pred_target, pos_label=1)\n",
    "print('f1_score on training data:', np.round(f1_train,2))\n",
    "\n",
    "# Calculating f1_Score on testing data.\n",
    "pred_target = rfc.predict(X_test1)\n",
    "f1_test = f1_score(y_test, pred_target, pos_label=1)\n",
    "print('f1_score on testing data:', np.round(f1_test,2))"
   ]
  },
  {
   "cell_type": "markdown",
   "metadata": {},
   "source": [
    "As expected, there is still clear overfitting."
   ]
  },
  {
   "cell_type": "code",
   "execution_count": 68,
   "metadata": {},
   "outputs": [],
   "source": [
    "# Importing randomized search cv function.\n",
    "from sklearn.model_selection import RandomizedSearchCV"
   ]
  },
  {
   "cell_type": "markdown",
   "metadata": {},
   "source": [
    "One advantage of the GridSearchCV function is that it exhaustively evaluates all possible combinations of parameters from the specified dictionary. However, this can become computationally expensive when there are many combinations.\n",
    "\n",
    "In contrast, the RandomizedSearchCV function addresses this issue by randomly sampling a pre-specified number of parameter combinations. This approach makes it more efficient, especially when the parameter space is large, while still providing a good chance of finding an optimal or near-optimal set of parameters."
   ]
  },
  {
   "cell_type": "code",
   "execution_count": 69,
   "metadata": {},
   "outputs": [
    {
     "name": "stdout",
     "output_type": "stream",
     "text": [
      "Fitting 4 folds for each of 10 candidates, totalling 40 fits\n"
     ]
    },
    {
     "data": {
      "text/html": [
       "<style>#sk-container-id-4 {color: black;background-color: white;}#sk-container-id-4 pre{padding: 0;}#sk-container-id-4 div.sk-toggleable {background-color: white;}#sk-container-id-4 label.sk-toggleable__label {cursor: pointer;display: block;width: 100%;margin-bottom: 0;padding: 0.3em;box-sizing: border-box;text-align: center;}#sk-container-id-4 label.sk-toggleable__label-arrow:before {content: \"▸\";float: left;margin-right: 0.25em;color: #696969;}#sk-container-id-4 label.sk-toggleable__label-arrow:hover:before {color: black;}#sk-container-id-4 div.sk-estimator:hover label.sk-toggleable__label-arrow:before {color: black;}#sk-container-id-4 div.sk-toggleable__content {max-height: 0;max-width: 0;overflow: hidden;text-align: left;background-color: #f0f8ff;}#sk-container-id-4 div.sk-toggleable__content pre {margin: 0.2em;color: black;border-radius: 0.25em;background-color: #f0f8ff;}#sk-container-id-4 input.sk-toggleable__control:checked~div.sk-toggleable__content {max-height: 200px;max-width: 100%;overflow: auto;}#sk-container-id-4 input.sk-toggleable__control:checked~label.sk-toggleable__label-arrow:before {content: \"▾\";}#sk-container-id-4 div.sk-estimator input.sk-toggleable__control:checked~label.sk-toggleable__label {background-color: #d4ebff;}#sk-container-id-4 div.sk-label input.sk-toggleable__control:checked~label.sk-toggleable__label {background-color: #d4ebff;}#sk-container-id-4 input.sk-hidden--visually {border: 0;clip: rect(1px 1px 1px 1px);clip: rect(1px, 1px, 1px, 1px);height: 1px;margin: -1px;overflow: hidden;padding: 0;position: absolute;width: 1px;}#sk-container-id-4 div.sk-estimator {font-family: monospace;background-color: #f0f8ff;border: 1px dotted black;border-radius: 0.25em;box-sizing: border-box;margin-bottom: 0.5em;}#sk-container-id-4 div.sk-estimator:hover {background-color: #d4ebff;}#sk-container-id-4 div.sk-parallel-item::after {content: \"\";width: 100%;border-bottom: 1px solid gray;flex-grow: 1;}#sk-container-id-4 div.sk-label:hover label.sk-toggleable__label {background-color: #d4ebff;}#sk-container-id-4 div.sk-serial::before {content: \"\";position: absolute;border-left: 1px solid gray;box-sizing: border-box;top: 0;bottom: 0;left: 50%;z-index: 0;}#sk-container-id-4 div.sk-serial {display: flex;flex-direction: column;align-items: center;background-color: white;padding-right: 0.2em;padding-left: 0.2em;position: relative;}#sk-container-id-4 div.sk-item {position: relative;z-index: 1;}#sk-container-id-4 div.sk-parallel {display: flex;align-items: stretch;justify-content: center;background-color: white;position: relative;}#sk-container-id-4 div.sk-item::before, #sk-container-id-4 div.sk-parallel-item::before {content: \"\";position: absolute;border-left: 1px solid gray;box-sizing: border-box;top: 0;bottom: 0;left: 50%;z-index: -1;}#sk-container-id-4 div.sk-parallel-item {display: flex;flex-direction: column;z-index: 1;position: relative;background-color: white;}#sk-container-id-4 div.sk-parallel-item:first-child::after {align-self: flex-end;width: 50%;}#sk-container-id-4 div.sk-parallel-item:last-child::after {align-self: flex-start;width: 50%;}#sk-container-id-4 div.sk-parallel-item:only-child::after {width: 0;}#sk-container-id-4 div.sk-dashed-wrapped {border: 1px dashed gray;margin: 0 0.4em 0.5em 0.4em;box-sizing: border-box;padding-bottom: 0.4em;background-color: white;}#sk-container-id-4 div.sk-label label {font-family: monospace;font-weight: bold;display: inline-block;line-height: 1.2em;}#sk-container-id-4 div.sk-label-container {text-align: center;}#sk-container-id-4 div.sk-container {/* jupyter's `normalize.less` sets `[hidden] { display: none; }` but bootstrap.min.css set `[hidden] { display: none !important; }` so we also need the `!important` here to be able to override the default hidden behavior on the sphinx rendered scikit-learn.org. See: https://github.com/scikit-learn/scikit-learn/issues/21755 */display: inline-block !important;position: relative;}#sk-container-id-4 div.sk-text-repr-fallback {display: none;}</style><div id=\"sk-container-id-4\" class=\"sk-top-container\"><div class=\"sk-text-repr-fallback\"><pre>RandomizedSearchCV(cv=StratifiedKFold(n_splits=4, random_state=None, shuffle=False),\n",
       "                   estimator=RandomForestClassifier(random_state=22),\n",
       "                   param_distributions=[{&#x27;class_weight&#x27;: [{0: 1, 1: 1},\n",
       "                                                          {0: 1, 1: 3},\n",
       "                                                          {0: 1, 1: 5.69},\n",
       "                                                          None],\n",
       "                                         &#x27;max_depth&#x27;: [5, 10],\n",
       "                                         &#x27;max_features&#x27;: [&#x27;sqrt&#x27;, &#x27;log2&#x27;],\n",
       "                                         &#x27;n_estimators&#x27;: [10, 30, 100]}],\n",
       "                   random_state=42, scoring=make_scorer(f1_score, pos_label=1),\n",
       "                   verbose=1)</pre><b>In a Jupyter environment, please rerun this cell to show the HTML representation or trust the notebook. <br />On GitHub, the HTML representation is unable to render, please try loading this page with nbviewer.org.</b></div><div class=\"sk-container\" hidden><div class=\"sk-item sk-dashed-wrapped\"><div class=\"sk-label-container\"><div class=\"sk-label sk-toggleable\"><input class=\"sk-toggleable__control sk-hidden--visually\" id=\"sk-estimator-id-10\" type=\"checkbox\" ><label for=\"sk-estimator-id-10\" class=\"sk-toggleable__label sk-toggleable__label-arrow\">RandomizedSearchCV</label><div class=\"sk-toggleable__content\"><pre>RandomizedSearchCV(cv=StratifiedKFold(n_splits=4, random_state=None, shuffle=False),\n",
       "                   estimator=RandomForestClassifier(random_state=22),\n",
       "                   param_distributions=[{&#x27;class_weight&#x27;: [{0: 1, 1: 1},\n",
       "                                                          {0: 1, 1: 3},\n",
       "                                                          {0: 1, 1: 5.69},\n",
       "                                                          None],\n",
       "                                         &#x27;max_depth&#x27;: [5, 10],\n",
       "                                         &#x27;max_features&#x27;: [&#x27;sqrt&#x27;, &#x27;log2&#x27;],\n",
       "                                         &#x27;n_estimators&#x27;: [10, 30, 100]}],\n",
       "                   random_state=42, scoring=make_scorer(f1_score, pos_label=1),\n",
       "                   verbose=1)</pre></div></div></div><div class=\"sk-parallel\"><div class=\"sk-parallel-item\"><div class=\"sk-item\"><div class=\"sk-label-container\"><div class=\"sk-label sk-toggleable\"><input class=\"sk-toggleable__control sk-hidden--visually\" id=\"sk-estimator-id-11\" type=\"checkbox\" ><label for=\"sk-estimator-id-11\" class=\"sk-toggleable__label sk-toggleable__label-arrow\">estimator: RandomForestClassifier</label><div class=\"sk-toggleable__content\"><pre>RandomForestClassifier(random_state=22)</pre></div></div></div><div class=\"sk-serial\"><div class=\"sk-item\"><div class=\"sk-estimator sk-toggleable\"><input class=\"sk-toggleable__control sk-hidden--visually\" id=\"sk-estimator-id-12\" type=\"checkbox\" ><label for=\"sk-estimator-id-12\" class=\"sk-toggleable__label sk-toggleable__label-arrow\">RandomForestClassifier</label><div class=\"sk-toggleable__content\"><pre>RandomForestClassifier(random_state=22)</pre></div></div></div></div></div></div></div></div></div></div>"
      ],
      "text/plain": [
       "RandomizedSearchCV(cv=StratifiedKFold(n_splits=4, random_state=None, shuffle=False),\n",
       "                   estimator=RandomForestClassifier(random_state=22),\n",
       "                   param_distributions=[{'class_weight': [{0: 1, 1: 1},\n",
       "                                                          {0: 1, 1: 3},\n",
       "                                                          {0: 1, 1: 5.69},\n",
       "                                                          None],\n",
       "                                         'max_depth': [5, 10],\n",
       "                                         'max_features': ['sqrt', 'log2'],\n",
       "                                         'n_estimators': [10, 30, 100]}],\n",
       "                   random_state=42, scoring=make_scorer(f1_score, pos_label=1),\n",
       "                   verbose=1)"
      ]
     },
     "execution_count": 69,
     "metadata": {},
     "output_type": "execute_result"
    }
   ],
   "source": [
    "# Creating list to house dictionary of possible parameter values.\n",
    "param_dist = [{\n",
    "    'n_estimators': [10, 30, 100],\n",
    "    'max_depth': [5, 10],\n",
    "    'max_features': ['sqrt', 'log2'],\n",
    "    'class_weight': [{0:1, 1:w} for w in [1, 3, 5.69]] + [None]\n",
    "}]\n",
    "\n",
    "# Creating initial RandomForestClassifier model.\n",
    "rfc = RandomForestClassifier(random_state=22)\n",
    "\n",
    "# Creating RandomizedSearchCV function.\n",
    "rand_search = RandomizedSearchCV(rfc, param_dist, \n",
    "                                 cv=StratifiedKFold(n_splits=4), \n",
    "                                 scoring = make_scorer(f1_score, pos_label=1), \n",
    "                                 verbose=1, random_state=42)\n",
    "# Fitting rand_search with the training data.\n",
    "rand_search.fit(X_train1, y_train)"
   ]
  },
  {
   "cell_type": "code",
   "execution_count": 70,
   "metadata": {},
   "outputs": [
    {
     "name": "stdout",
     "output_type": "stream",
     "text": [
      "{'n_estimators': 30, 'max_features': 'sqrt', 'max_depth': 10, 'class_weight': {0: 1, 1: 3}}\n"
     ]
    }
   ],
   "source": [
    "# Printing the best parameters from the best estimator from rand_search.\n",
    "print(rand_search.best_params_)"
   ]
  },
  {
   "cell_type": "markdown",
   "metadata": {},
   "source": [
    "The parameters mentioned above were the same as the best parameters found using RandomizedSearchCV in the 'first model building process.ipynb' file"
   ]
  },
  {
   "cell_type": "code",
   "execution_count": 71,
   "metadata": {},
   "outputs": [
    {
     "name": "stdout",
     "output_type": "stream",
     "text": [
      "f1_score on training data: 0.48\n",
      "f1_score on testing data: 0.45\n"
     ]
    }
   ],
   "source": [
    "# Creating a RandomForestClassifier model, rfc, from the best estimator from rand_search.\n",
    "rfc = rand_search.best_estimator_\n",
    "\n",
    "# Fitting rfc with training data.\n",
    "rfc.fit(X_train1, y_train)\n",
    "\n",
    "# Calculating f1_score on training data.\n",
    "pred_target = rfc.predict(X_train1)\n",
    "f1_train = f1_score(y_train, pred_target, pos_label=1)\n",
    "print('f1_score on training data:', np.round(f1_train,2))\n",
    "\n",
    "# Calculating f1_score on testing data.\n",
    "pred_target = rfc.predict(X_test1)\n",
    "f1_test = f1_score(y_test, pred_target, pos_label=1)\n",
    "print('f1_score on testing data:', np.round(f1_test,2))"
   ]
  },
  {
   "cell_type": "markdown",
   "metadata": {},
   "source": [
    "Both the F1 scores for the training and testing data decreased by 0.03 compared to the best estimator from the RandomizedSearchCV results in 'first model building process.ipynb'. Since the estimator used the same parameters, it appears that the stratification and one-hot encoding strategy did not improve performance as expected."
   ]
  },
  {
   "cell_type": "markdown",
   "metadata": {},
   "source": [
    "### Balanced Random Forest Classifier"
   ]
  },
  {
   "cell_type": "code",
   "execution_count": 72,
   "metadata": {},
   "outputs": [],
   "source": [
    "# Importing BalancedRandomForestClassifier function.\n",
    "from imblearn.ensemble import BalancedRandomForestClassifier"
   ]
  },
  {
   "cell_type": "code",
   "execution_count": 73,
   "metadata": {},
   "outputs": [
    {
     "name": "stderr",
     "output_type": "stream",
     "text": [
      "c:\\Users\\conno\\AppData\\Local\\Programs\\Python\\Python311\\Lib\\site-packages\\imblearn\\ensemble\\_forest.py:577: FutureWarning: The default of `sampling_strategy` will change from `'auto'` to `'all'` in version 0.13. This change will follow the implementation proposed in the original paper. Set to `'all'` to silence this warning and adopt the future behaviour.\n",
      "  warn(\n",
      "c:\\Users\\conno\\AppData\\Local\\Programs\\Python\\Python311\\Lib\\site-packages\\imblearn\\ensemble\\_forest.py:589: FutureWarning: The default of `replacement` will change from `False` to `True` in version 0.13. This change will follow the implementation proposed in the original paper. Set to `True` to silence this warning and adopt the future behaviour.\n",
      "  warn(\n",
      "c:\\Users\\conno\\AppData\\Local\\Programs\\Python\\Python311\\Lib\\site-packages\\imblearn\\ensemble\\_forest.py:601: FutureWarning: The default of `bootstrap` will change from `True` to `False` in version 0.13. This change will follow the implementation proposed in the original paper. Set to `False` to silence this warning and adopt the future behaviour.\n",
      "  warn(\n"
     ]
    },
    {
     "name": "stdout",
     "output_type": "stream",
     "text": [
      "\n",
      "\n",
      "f1_score on training data: 0.6\n",
      "f1_score on testing data: 0.45\n"
     ]
    }
   ],
   "source": [
    "# Creating BalancedRandomForestClassifier model (brfc).\n",
    "brfc = BalancedRandomForestClassifier(random_state=42)\n",
    "\n",
    "# Fitting brfc with training data.\n",
    "brfc.fit(X_train1, y_train)\n",
    "print()\n",
    "print()\n",
    "\n",
    "# Calculating f1_score on training data.\n",
    "pred_target = brfc.predict(X_train1)\n",
    "f1_train = f1_score(y_train, pred_target, pos_label=1)\n",
    "print('f1_score on training data:', np.round(f1_train,2))\n",
    "\n",
    "# Calculating f1_score on testing data.\n",
    "pred_target = brfc.predict(X_test1)\n",
    "f1_test = f1_score(y_test, pred_target, pos_label=1)\n",
    "print('f1_score on testing data:', np.round(f1_test,2))"
   ]
  },
  {
   "cell_type": "markdown",
   "metadata": {},
   "source": [
    "First, the warnings above are nothing to worry about. From the output, we can observe some overfitting, but the testing f1 score remains decent compared to the initial Random Forest Classifier model testing f1 score (.45 to .23), especially considering that none of the model parameters have been fine-tuned yet."
   ]
  },
  {
   "cell_type": "code",
   "execution_count": 74,
   "metadata": {},
   "outputs": [
    {
     "name": "stdout",
     "output_type": "stream",
     "text": [
      "Fitting 4 folds for each of 15 candidates, totalling 60 fits\n"
     ]
    },
    {
     "data": {
      "text/html": [
       "<style>#sk-container-id-5 {color: black;background-color: white;}#sk-container-id-5 pre{padding: 0;}#sk-container-id-5 div.sk-toggleable {background-color: white;}#sk-container-id-5 label.sk-toggleable__label {cursor: pointer;display: block;width: 100%;margin-bottom: 0;padding: 0.3em;box-sizing: border-box;text-align: center;}#sk-container-id-5 label.sk-toggleable__label-arrow:before {content: \"▸\";float: left;margin-right: 0.25em;color: #696969;}#sk-container-id-5 label.sk-toggleable__label-arrow:hover:before {color: black;}#sk-container-id-5 div.sk-estimator:hover label.sk-toggleable__label-arrow:before {color: black;}#sk-container-id-5 div.sk-toggleable__content {max-height: 0;max-width: 0;overflow: hidden;text-align: left;background-color: #f0f8ff;}#sk-container-id-5 div.sk-toggleable__content pre {margin: 0.2em;color: black;border-radius: 0.25em;background-color: #f0f8ff;}#sk-container-id-5 input.sk-toggleable__control:checked~div.sk-toggleable__content {max-height: 200px;max-width: 100%;overflow: auto;}#sk-container-id-5 input.sk-toggleable__control:checked~label.sk-toggleable__label-arrow:before {content: \"▾\";}#sk-container-id-5 div.sk-estimator input.sk-toggleable__control:checked~label.sk-toggleable__label {background-color: #d4ebff;}#sk-container-id-5 div.sk-label input.sk-toggleable__control:checked~label.sk-toggleable__label {background-color: #d4ebff;}#sk-container-id-5 input.sk-hidden--visually {border: 0;clip: rect(1px 1px 1px 1px);clip: rect(1px, 1px, 1px, 1px);height: 1px;margin: -1px;overflow: hidden;padding: 0;position: absolute;width: 1px;}#sk-container-id-5 div.sk-estimator {font-family: monospace;background-color: #f0f8ff;border: 1px dotted black;border-radius: 0.25em;box-sizing: border-box;margin-bottom: 0.5em;}#sk-container-id-5 div.sk-estimator:hover {background-color: #d4ebff;}#sk-container-id-5 div.sk-parallel-item::after {content: \"\";width: 100%;border-bottom: 1px solid gray;flex-grow: 1;}#sk-container-id-5 div.sk-label:hover label.sk-toggleable__label {background-color: #d4ebff;}#sk-container-id-5 div.sk-serial::before {content: \"\";position: absolute;border-left: 1px solid gray;box-sizing: border-box;top: 0;bottom: 0;left: 50%;z-index: 0;}#sk-container-id-5 div.sk-serial {display: flex;flex-direction: column;align-items: center;background-color: white;padding-right: 0.2em;padding-left: 0.2em;position: relative;}#sk-container-id-5 div.sk-item {position: relative;z-index: 1;}#sk-container-id-5 div.sk-parallel {display: flex;align-items: stretch;justify-content: center;background-color: white;position: relative;}#sk-container-id-5 div.sk-item::before, #sk-container-id-5 div.sk-parallel-item::before {content: \"\";position: absolute;border-left: 1px solid gray;box-sizing: border-box;top: 0;bottom: 0;left: 50%;z-index: -1;}#sk-container-id-5 div.sk-parallel-item {display: flex;flex-direction: column;z-index: 1;position: relative;background-color: white;}#sk-container-id-5 div.sk-parallel-item:first-child::after {align-self: flex-end;width: 50%;}#sk-container-id-5 div.sk-parallel-item:last-child::after {align-self: flex-start;width: 50%;}#sk-container-id-5 div.sk-parallel-item:only-child::after {width: 0;}#sk-container-id-5 div.sk-dashed-wrapped {border: 1px dashed gray;margin: 0 0.4em 0.5em 0.4em;box-sizing: border-box;padding-bottom: 0.4em;background-color: white;}#sk-container-id-5 div.sk-label label {font-family: monospace;font-weight: bold;display: inline-block;line-height: 1.2em;}#sk-container-id-5 div.sk-label-container {text-align: center;}#sk-container-id-5 div.sk-container {/* jupyter's `normalize.less` sets `[hidden] { display: none; }` but bootstrap.min.css set `[hidden] { display: none !important; }` so we also need the `!important` here to be able to override the default hidden behavior on the sphinx rendered scikit-learn.org. See: https://github.com/scikit-learn/scikit-learn/issues/21755 */display: inline-block !important;position: relative;}#sk-container-id-5 div.sk-text-repr-fallback {display: none;}</style><div id=\"sk-container-id-5\" class=\"sk-top-container\"><div class=\"sk-text-repr-fallback\"><pre>RandomizedSearchCV(cv=StratifiedKFold(n_splits=4, random_state=None, shuffle=False),\n",
       "                   estimator=RandomForestClassifier(class_weight={0: 1, 1: 3},\n",
       "                                                    max_depth=10,\n",
       "                                                    n_estimators=30,\n",
       "                                                    random_state=22),\n",
       "                   n_iter=15,\n",
       "                   param_distributions=[{&#x27;class_weight&#x27;: [{0: 1, 1: 2},\n",
       "                                                          {0: 1, 1: 2},\n",
       "                                                          {0: 1, 1: 2}, None],\n",
       "                                         &#x27;max_depth&#x27;: [5, 10, 20],\n",
       "                                         &#x27;max_features&#x27;: [&#x27;sqrt&#x27;, &#x27;log2&#x27;, None],\n",
       "                                         &#x27;n_estimators&#x27;: [5, 25, 50, 100]}],\n",
       "                   random_state=42, scoring=make_scorer(f1_score, pos_label=1),\n",
       "                   verbose=1)</pre><b>In a Jupyter environment, please rerun this cell to show the HTML representation or trust the notebook. <br />On GitHub, the HTML representation is unable to render, please try loading this page with nbviewer.org.</b></div><div class=\"sk-container\" hidden><div class=\"sk-item sk-dashed-wrapped\"><div class=\"sk-label-container\"><div class=\"sk-label sk-toggleable\"><input class=\"sk-toggleable__control sk-hidden--visually\" id=\"sk-estimator-id-13\" type=\"checkbox\" ><label for=\"sk-estimator-id-13\" class=\"sk-toggleable__label sk-toggleable__label-arrow\">RandomizedSearchCV</label><div class=\"sk-toggleable__content\"><pre>RandomizedSearchCV(cv=StratifiedKFold(n_splits=4, random_state=None, shuffle=False),\n",
       "                   estimator=RandomForestClassifier(class_weight={0: 1, 1: 3},\n",
       "                                                    max_depth=10,\n",
       "                                                    n_estimators=30,\n",
       "                                                    random_state=22),\n",
       "                   n_iter=15,\n",
       "                   param_distributions=[{&#x27;class_weight&#x27;: [{0: 1, 1: 2},\n",
       "                                                          {0: 1, 1: 2},\n",
       "                                                          {0: 1, 1: 2}, None],\n",
       "                                         &#x27;max_depth&#x27;: [5, 10, 20],\n",
       "                                         &#x27;max_features&#x27;: [&#x27;sqrt&#x27;, &#x27;log2&#x27;, None],\n",
       "                                         &#x27;n_estimators&#x27;: [5, 25, 50, 100]}],\n",
       "                   random_state=42, scoring=make_scorer(f1_score, pos_label=1),\n",
       "                   verbose=1)</pre></div></div></div><div class=\"sk-parallel\"><div class=\"sk-parallel-item\"><div class=\"sk-item\"><div class=\"sk-label-container\"><div class=\"sk-label sk-toggleable\"><input class=\"sk-toggleable__control sk-hidden--visually\" id=\"sk-estimator-id-14\" type=\"checkbox\" ><label for=\"sk-estimator-id-14\" class=\"sk-toggleable__label sk-toggleable__label-arrow\">estimator: RandomForestClassifier</label><div class=\"sk-toggleable__content\"><pre>RandomForestClassifier(class_weight={0: 1, 1: 3}, max_depth=10, n_estimators=30,\n",
       "                       random_state=22)</pre></div></div></div><div class=\"sk-serial\"><div class=\"sk-item\"><div class=\"sk-estimator sk-toggleable\"><input class=\"sk-toggleable__control sk-hidden--visually\" id=\"sk-estimator-id-15\" type=\"checkbox\" ><label for=\"sk-estimator-id-15\" class=\"sk-toggleable__label sk-toggleable__label-arrow\">RandomForestClassifier</label><div class=\"sk-toggleable__content\"><pre>RandomForestClassifier(class_weight={0: 1, 1: 3}, max_depth=10, n_estimators=30,\n",
       "                       random_state=22)</pre></div></div></div></div></div></div></div></div></div></div>"
      ],
      "text/plain": [
       "RandomizedSearchCV(cv=StratifiedKFold(n_splits=4, random_state=None, shuffle=False),\n",
       "                   estimator=RandomForestClassifier(class_weight={0: 1, 1: 3},\n",
       "                                                    max_depth=10,\n",
       "                                                    n_estimators=30,\n",
       "                                                    random_state=22),\n",
       "                   n_iter=15,\n",
       "                   param_distributions=[{'class_weight': [{0: 1, 1: 2},\n",
       "                                                          {0: 1, 1: 2},\n",
       "                                                          {0: 1, 1: 2}, None],\n",
       "                                         'max_depth': [5, 10, 20],\n",
       "                                         'max_features': ['sqrt', 'log2', None],\n",
       "                                         'n_estimators': [5, 25, 50, 100]}],\n",
       "                   random_state=42, scoring=make_scorer(f1_score, pos_label=1),\n",
       "                   verbose=1)"
      ]
     },
     "execution_count": 74,
     "metadata": {},
     "output_type": "execute_result"
    }
   ],
   "source": [
    "# Creating a dictionary inside of a list with different parameter possibilities. \n",
    "param_dist = [{\n",
    "    'n_estimators': [5, 25, 50, 100],\n",
    "    'max_depth': [5, 10, 20],\n",
    "    'max_features': ['sqrt','log2',None],\n",
    "    'class_weight': [{0:1,1:2} for w in [1, 3, 5.69]] + [None],\n",
    "}]\n",
    "\n",
    "# Creating initial BalancedRandomForestClassifier\n",
    "brfc = BalancedRandomForestClassifier(random_state=42)\n",
    "\n",
    "#Creating RandomizedSearchCV function\n",
    "rand_search = RandomizedSearchCV(rfc, param_dist, \n",
    "                                 cv=StratifiedKFold(n_splits=4), \n",
    "                                 scoring = make_scorer(f1_score, pos_label=1), \n",
    "                                 verbose=1, \n",
    "                                 random_state=42, \n",
    "                                 n_iter=15)                                     # Specifies that 15 different parameter combinations will be independently selected.\n",
    "# Fitting grid with the training data.\n",
    "rand_search.fit(X_train1, y_train)"
   ]
  },
  {
   "cell_type": "code",
   "execution_count": 75,
   "metadata": {},
   "outputs": [
    {
     "name": "stdout",
     "output_type": "stream",
     "text": [
      "{'n_estimators': 50, 'max_features': None, 'max_depth': 10, 'class_weight': {0: 1, 1: 2}}\n"
     ]
    }
   ],
   "source": [
    "# Printing the best parameters from the best estimator from rand_search.\n",
    "print(rand_search.best_params_)"
   ]
  },
  {
   "cell_type": "code",
   "execution_count": 76,
   "metadata": {},
   "outputs": [
    {
     "name": "stdout",
     "output_type": "stream",
     "text": [
      "f1_score on training data: 0.49\n",
      "f1_score on testing data: 0.43\n"
     ]
    }
   ],
   "source": [
    "# Creating a BalancedRandomForestClassifier model, brfc, from the best estimator from rand_search.\n",
    "brfc = rand_search.best_estimator_\n",
    "# Fitting brfc with training data.\n",
    "brfc.fit(X_train1, y_train)\n",
    "# Calculating f1_score on training data.\n",
    "pred_target = brfc.predict(X_train1)\n",
    "f1_train = f1_score(y_train, pred_target, pos_label=1)\n",
    "print('f1_score on training data:', np.round(f1_train,2))\n",
    "# Calculating f1_score on testing data.\n",
    "pred_target = brfc.predict(X_test1)\n",
    "f1_test = f1_score(y_test, pred_target, pos_label=1)\n",
    "print('f1_score on testing data:', np.round(f1_test,2))"
   ]
  },
  {
   "cell_type": "markdown",
   "metadata": {},
   "source": [
    "The overfitting is less apparent than before; however, the F1 score on the testing data has decreased, which is a negative outcome."
   ]
  },
  {
   "cell_type": "markdown",
   "metadata": {},
   "source": [
    "### Hist Gradient Boosting Classifier"
   ]
  },
  {
   "cell_type": "code",
   "execution_count": 77,
   "metadata": {},
   "outputs": [],
   "source": [
    "# Importing HistGradientBoostingClassifier function.\n",
    "from sklearn.ensemble import HistGradientBoostingClassifier"
   ]
  },
  {
   "cell_type": "code",
   "execution_count": 78,
   "metadata": {},
   "outputs": [
    {
     "name": "stdout",
     "output_type": "stream",
     "text": [
      "f1_score on training data: 0.46\n",
      "f1_score on testing data: 0.46\n"
     ]
    }
   ],
   "source": [
    "# Creating a HistGradientBoostingClassifier model, hgbc, with random state set to 42 and class_weight to balanced.\n",
    "hgbc = HistGradientBoostingClassifier(random_state=42, class_weight='balanced')\n",
    "\n",
    "# Fitting hgbc with training data.\n",
    "hgbc.fit(X_train1, y_train)\n",
    "\n",
    "# Calculating f1_score on training data.\n",
    "pred_target = hgbc.predict(X_train1)\n",
    "f1_train = f1_score(y_train, pred_target, pos_label=1)\n",
    "print('f1_score on training data:', np.round(f1_train,2))\n",
    "\n",
    "# Calculating f1_score on testing data.\n",
    "pred_target = hgbc.predict(X_test1)\n",
    "f1_test = f1_score(y_test, pred_target, pos_label=1)\n",
    "print('f1_score on testing data:', np.round(f1_test,2))"
   ]
  },
  {
   "cell_type": "markdown",
   "metadata": {},
   "source": [
    "Compared to the initial HistGradientBoostingClassifier model from the 'first model building process.ipynb' file, the f1 score on the training data is .01 worse while the the f1 score on the testing data is exactly the same with .46."
   ]
  },
  {
   "cell_type": "code",
   "execution_count": 79,
   "metadata": {},
   "outputs": [
    {
     "name": "stdout",
     "output_type": "stream",
     "text": [
      "Fitting 4 folds for each of 130 candidates, totalling 520 fits\n"
     ]
    },
    {
     "data": {
      "text/html": [
       "<style>#sk-container-id-6 {color: black;background-color: white;}#sk-container-id-6 pre{padding: 0;}#sk-container-id-6 div.sk-toggleable {background-color: white;}#sk-container-id-6 label.sk-toggleable__label {cursor: pointer;display: block;width: 100%;margin-bottom: 0;padding: 0.3em;box-sizing: border-box;text-align: center;}#sk-container-id-6 label.sk-toggleable__label-arrow:before {content: \"▸\";float: left;margin-right: 0.25em;color: #696969;}#sk-container-id-6 label.sk-toggleable__label-arrow:hover:before {color: black;}#sk-container-id-6 div.sk-estimator:hover label.sk-toggleable__label-arrow:before {color: black;}#sk-container-id-6 div.sk-toggleable__content {max-height: 0;max-width: 0;overflow: hidden;text-align: left;background-color: #f0f8ff;}#sk-container-id-6 div.sk-toggleable__content pre {margin: 0.2em;color: black;border-radius: 0.25em;background-color: #f0f8ff;}#sk-container-id-6 input.sk-toggleable__control:checked~div.sk-toggleable__content {max-height: 200px;max-width: 100%;overflow: auto;}#sk-container-id-6 input.sk-toggleable__control:checked~label.sk-toggleable__label-arrow:before {content: \"▾\";}#sk-container-id-6 div.sk-estimator input.sk-toggleable__control:checked~label.sk-toggleable__label {background-color: #d4ebff;}#sk-container-id-6 div.sk-label input.sk-toggleable__control:checked~label.sk-toggleable__label {background-color: #d4ebff;}#sk-container-id-6 input.sk-hidden--visually {border: 0;clip: rect(1px 1px 1px 1px);clip: rect(1px, 1px, 1px, 1px);height: 1px;margin: -1px;overflow: hidden;padding: 0;position: absolute;width: 1px;}#sk-container-id-6 div.sk-estimator {font-family: monospace;background-color: #f0f8ff;border: 1px dotted black;border-radius: 0.25em;box-sizing: border-box;margin-bottom: 0.5em;}#sk-container-id-6 div.sk-estimator:hover {background-color: #d4ebff;}#sk-container-id-6 div.sk-parallel-item::after {content: \"\";width: 100%;border-bottom: 1px solid gray;flex-grow: 1;}#sk-container-id-6 div.sk-label:hover label.sk-toggleable__label {background-color: #d4ebff;}#sk-container-id-6 div.sk-serial::before {content: \"\";position: absolute;border-left: 1px solid gray;box-sizing: border-box;top: 0;bottom: 0;left: 50%;z-index: 0;}#sk-container-id-6 div.sk-serial {display: flex;flex-direction: column;align-items: center;background-color: white;padding-right: 0.2em;padding-left: 0.2em;position: relative;}#sk-container-id-6 div.sk-item {position: relative;z-index: 1;}#sk-container-id-6 div.sk-parallel {display: flex;align-items: stretch;justify-content: center;background-color: white;position: relative;}#sk-container-id-6 div.sk-item::before, #sk-container-id-6 div.sk-parallel-item::before {content: \"\";position: absolute;border-left: 1px solid gray;box-sizing: border-box;top: 0;bottom: 0;left: 50%;z-index: -1;}#sk-container-id-6 div.sk-parallel-item {display: flex;flex-direction: column;z-index: 1;position: relative;background-color: white;}#sk-container-id-6 div.sk-parallel-item:first-child::after {align-self: flex-end;width: 50%;}#sk-container-id-6 div.sk-parallel-item:last-child::after {align-self: flex-start;width: 50%;}#sk-container-id-6 div.sk-parallel-item:only-child::after {width: 0;}#sk-container-id-6 div.sk-dashed-wrapped {border: 1px dashed gray;margin: 0 0.4em 0.5em 0.4em;box-sizing: border-box;padding-bottom: 0.4em;background-color: white;}#sk-container-id-6 div.sk-label label {font-family: monospace;font-weight: bold;display: inline-block;line-height: 1.2em;}#sk-container-id-6 div.sk-label-container {text-align: center;}#sk-container-id-6 div.sk-container {/* jupyter's `normalize.less` sets `[hidden] { display: none; }` but bootstrap.min.css set `[hidden] { display: none !important; }` so we also need the `!important` here to be able to override the default hidden behavior on the sphinx rendered scikit-learn.org. See: https://github.com/scikit-learn/scikit-learn/issues/21755 */display: inline-block !important;position: relative;}#sk-container-id-6 div.sk-text-repr-fallback {display: none;}</style><div id=\"sk-container-id-6\" class=\"sk-top-container\"><div class=\"sk-text-repr-fallback\"><pre>RandomizedSearchCV(cv=StratifiedKFold(n_splits=4, random_state=None, shuffle=False),\n",
       "                   estimator=HistGradientBoostingClassifier(random_state=42),\n",
       "                   n_iter=130,\n",
       "                   param_distributions=[{&#x27;class_weight&#x27;: [{0: 1, 1: 1},\n",
       "                                                          {0: 1, 1: 2},\n",
       "                                                          {0: 1, 1: 3},\n",
       "                                                          {0: 1, 1: 5.69}],\n",
       "                                         &#x27;l2_regularization&#x27;: [0.1, 0.25, 0.5,\n",
       "                                                               1],\n",
       "                                         &#x27;learning_rate&#x27;: [0.1, 0.5, 0.9],\n",
       "                                         &#x27;max_depth&#x27;: [5, 10, 20],\n",
       "                                         &#x27;max_iter&#x27;: [10, 25, 50, 100],\n",
       "                                         &#x27;max_leaf_nodes&#x27;: [5, 15],\n",
       "                                         &#x27;min_samples_leaf&#x27;: [5, 10]}],\n",
       "                   random_state=22, scoring=make_scorer(f1_score, pos_label=1),\n",
       "                   verbose=1)</pre><b>In a Jupyter environment, please rerun this cell to show the HTML representation or trust the notebook. <br />On GitHub, the HTML representation is unable to render, please try loading this page with nbviewer.org.</b></div><div class=\"sk-container\" hidden><div class=\"sk-item sk-dashed-wrapped\"><div class=\"sk-label-container\"><div class=\"sk-label sk-toggleable\"><input class=\"sk-toggleable__control sk-hidden--visually\" id=\"sk-estimator-id-16\" type=\"checkbox\" ><label for=\"sk-estimator-id-16\" class=\"sk-toggleable__label sk-toggleable__label-arrow\">RandomizedSearchCV</label><div class=\"sk-toggleable__content\"><pre>RandomizedSearchCV(cv=StratifiedKFold(n_splits=4, random_state=None, shuffle=False),\n",
       "                   estimator=HistGradientBoostingClassifier(random_state=42),\n",
       "                   n_iter=130,\n",
       "                   param_distributions=[{&#x27;class_weight&#x27;: [{0: 1, 1: 1},\n",
       "                                                          {0: 1, 1: 2},\n",
       "                                                          {0: 1, 1: 3},\n",
       "                                                          {0: 1, 1: 5.69}],\n",
       "                                         &#x27;l2_regularization&#x27;: [0.1, 0.25, 0.5,\n",
       "                                                               1],\n",
       "                                         &#x27;learning_rate&#x27;: [0.1, 0.5, 0.9],\n",
       "                                         &#x27;max_depth&#x27;: [5, 10, 20],\n",
       "                                         &#x27;max_iter&#x27;: [10, 25, 50, 100],\n",
       "                                         &#x27;max_leaf_nodes&#x27;: [5, 15],\n",
       "                                         &#x27;min_samples_leaf&#x27;: [5, 10]}],\n",
       "                   random_state=22, scoring=make_scorer(f1_score, pos_label=1),\n",
       "                   verbose=1)</pre></div></div></div><div class=\"sk-parallel\"><div class=\"sk-parallel-item\"><div class=\"sk-item\"><div class=\"sk-label-container\"><div class=\"sk-label sk-toggleable\"><input class=\"sk-toggleable__control sk-hidden--visually\" id=\"sk-estimator-id-17\" type=\"checkbox\" ><label for=\"sk-estimator-id-17\" class=\"sk-toggleable__label sk-toggleable__label-arrow\">estimator: HistGradientBoostingClassifier</label><div class=\"sk-toggleable__content\"><pre>HistGradientBoostingClassifier(random_state=42)</pre></div></div></div><div class=\"sk-serial\"><div class=\"sk-item\"><div class=\"sk-estimator sk-toggleable\"><input class=\"sk-toggleable__control sk-hidden--visually\" id=\"sk-estimator-id-18\" type=\"checkbox\" ><label for=\"sk-estimator-id-18\" class=\"sk-toggleable__label sk-toggleable__label-arrow\">HistGradientBoostingClassifier</label><div class=\"sk-toggleable__content\"><pre>HistGradientBoostingClassifier(random_state=42)</pre></div></div></div></div></div></div></div></div></div></div>"
      ],
      "text/plain": [
       "RandomizedSearchCV(cv=StratifiedKFold(n_splits=4, random_state=None, shuffle=False),\n",
       "                   estimator=HistGradientBoostingClassifier(random_state=42),\n",
       "                   n_iter=130,\n",
       "                   param_distributions=[{'class_weight': [{0: 1, 1: 1},\n",
       "                                                          {0: 1, 1: 2},\n",
       "                                                          {0: 1, 1: 3},\n",
       "                                                          {0: 1, 1: 5.69}],\n",
       "                                         'l2_regularization': [0.1, 0.25, 0.5,\n",
       "                                                               1],\n",
       "                                         'learning_rate': [0.1, 0.5, 0.9],\n",
       "                                         'max_depth': [5, 10, 20],\n",
       "                                         'max_iter': [10, 25, 50, 100],\n",
       "                                         'max_leaf_nodes': [5, 15],\n",
       "                                         'min_samples_leaf': [5, 10]}],\n",
       "                   random_state=22, scoring=make_scorer(f1_score, pos_label=1),\n",
       "                   verbose=1)"
      ]
     },
     "execution_count": 79,
     "metadata": {},
     "output_type": "execute_result"
    }
   ],
   "source": [
    "# Creating list to house dictionary of possible parameter values.\n",
    "param_dist = [{\n",
    "    'learning_rate': [.1, .5, .9],\n",
    "    'max_iter': [10, 25, 50, 100],\n",
    "    'max_leaf_nodes': [5, 15],\n",
    "    'max_depth': [5,10,20],\n",
    "    'min_samples_leaf': [5,10],\n",
    "    'l2_regularization': [.1, .25, .5, 1],\n",
    "    'class_weight': [{0:1, 1:w} for w in [1, 2, 3, 5.69]]\n",
    "}]\n",
    "\n",
    "# Creating initial HistGradientBoostingClassifier model.\n",
    "hgbc = HistGradientBoostingClassifier(random_state=42)\n",
    "# Creating initial RandomizedSearchCV function.\n",
    "rand_search = RandomizedSearchCV(hgbc, param_distributions=param_dist, \n",
    "                                scoring= make_scorer(f1_score, pos_label=1),\n",
    "                                cv=StratifiedKFold(n_splits=4), \n",
    "                                verbose=1, n_iter=130, random_state=22)\n",
    "# Fitting rand_search with training data.\n",
    "rand_search.fit(X_train1, y_train)"
   ]
  },
  {
   "cell_type": "code",
   "execution_count": 80,
   "metadata": {},
   "outputs": [
    {
     "name": "stdout",
     "output_type": "stream",
     "text": [
      "{'min_samples_leaf': 5, 'max_leaf_nodes': 15, 'max_iter': 100, 'max_depth': 20, 'learning_rate': 0.1, 'l2_regularization': 0.5, 'class_weight': {0: 1, 1: 3}}\n"
     ]
    }
   ],
   "source": [
    "# Printing the best parameters from the best estimator from rand_search.\n",
    "print(rand_search.best_params_)"
   ]
  },
  {
   "cell_type": "code",
   "execution_count": 81,
   "metadata": {},
   "outputs": [
    {
     "name": "stdout",
     "output_type": "stream",
     "text": [
      "f1_score on training data: 0.48\n",
      "f1_score on testing data: 0.48\n"
     ]
    }
   ],
   "source": [
    "# Creating a HistGradientBoostingClassifier model, hgbc, based on best estimator from rand_search.\n",
    "hgbc = rand_search.best_estimator_\n",
    "\n",
    "# Fitting hgbc with training data.\n",
    "hgbc.fit(X_train1, y_train)\n",
    "\n",
    "# Calculating f1_score on training data.\n",
    "pred_target = hgbc.predict(X_train1)\n",
    "f1_train = f1_score(y_train, pred_target, pos_label=1)\n",
    "print('f1_score on training data:', np.round(f1_train,2))\n",
    "\n",
    "# Calculating f1_score on testing data.\n",
    "pred_target = hgbc.predict(X_test1)\n",
    "f1_test = f1_score(y_test, pred_target, pos_label=1)\n",
    "print('f1_score on testing data:', np.round(f1_test,2))"
   ]
  },
  {
   "cell_type": "markdown",
   "metadata": {},
   "source": [
    "Our training and testing scores did both increase, but the testing score is still subpar at .48."
   ]
  },
  {
   "cell_type": "markdown",
   "metadata": {},
   "source": [
    "### XGB Classifier"
   ]
  },
  {
   "cell_type": "code",
   "execution_count": 82,
   "metadata": {},
   "outputs": [],
   "source": [
    "# Importing XGBClassifier function.\n",
    "from xgboost import XGBClassifier"
   ]
  },
  {
   "cell_type": "code",
   "execution_count": 83,
   "metadata": {},
   "outputs": [
    {
     "name": "stdout",
     "output_type": "stream",
     "text": [
      "f1_score on training data: 0.5\n",
      "f1_score on testing data: 0.46\n"
     ]
    }
   ],
   "source": [
    "# Creating a XGBClassifier model (xgbc) with random_state set to 42 and scale_pos_weight set to 5.69.\n",
    "xgbc = XGBClassifier(random_state=42, scale_pos_weight=5.69)\n",
    "\n",
    "# Fitting xgbc with training data. \n",
    "xgbc.fit(X_train1, y_train)\n",
    "\n",
    "# Calculating f1_score on training data.\n",
    "pred_target = xgbc.predict(X_train1)\n",
    "f1_train = np.round(f1_score(y_train, pred_target),2)\n",
    "print('f1_score on training data:', f1_train)\n",
    "\n",
    "# Calculating f1_score on testing data.\n",
    "pred_target = xgbc.predict(X_test1)\n",
    "f1_test = np.round(f1_score(y_test, pred_target),2)\n",
    "print('f1_score on testing data:', f1_test)"
   ]
  },
  {
   "cell_type": "code",
   "execution_count": 84,
   "metadata": {},
   "outputs": [
    {
     "name": "stdout",
     "output_type": "stream",
     "text": [
      "Fitting 4 folds for each of 20 candidates, totalling 80 fits\n"
     ]
    },
    {
     "data": {
      "text/html": [
       "<style>#sk-container-id-7 {color: black;background-color: white;}#sk-container-id-7 pre{padding: 0;}#sk-container-id-7 div.sk-toggleable {background-color: white;}#sk-container-id-7 label.sk-toggleable__label {cursor: pointer;display: block;width: 100%;margin-bottom: 0;padding: 0.3em;box-sizing: border-box;text-align: center;}#sk-container-id-7 label.sk-toggleable__label-arrow:before {content: \"▸\";float: left;margin-right: 0.25em;color: #696969;}#sk-container-id-7 label.sk-toggleable__label-arrow:hover:before {color: black;}#sk-container-id-7 div.sk-estimator:hover label.sk-toggleable__label-arrow:before {color: black;}#sk-container-id-7 div.sk-toggleable__content {max-height: 0;max-width: 0;overflow: hidden;text-align: left;background-color: #f0f8ff;}#sk-container-id-7 div.sk-toggleable__content pre {margin: 0.2em;color: black;border-radius: 0.25em;background-color: #f0f8ff;}#sk-container-id-7 input.sk-toggleable__control:checked~div.sk-toggleable__content {max-height: 200px;max-width: 100%;overflow: auto;}#sk-container-id-7 input.sk-toggleable__control:checked~label.sk-toggleable__label-arrow:before {content: \"▾\";}#sk-container-id-7 div.sk-estimator input.sk-toggleable__control:checked~label.sk-toggleable__label {background-color: #d4ebff;}#sk-container-id-7 div.sk-label input.sk-toggleable__control:checked~label.sk-toggleable__label {background-color: #d4ebff;}#sk-container-id-7 input.sk-hidden--visually {border: 0;clip: rect(1px 1px 1px 1px);clip: rect(1px, 1px, 1px, 1px);height: 1px;margin: -1px;overflow: hidden;padding: 0;position: absolute;width: 1px;}#sk-container-id-7 div.sk-estimator {font-family: monospace;background-color: #f0f8ff;border: 1px dotted black;border-radius: 0.25em;box-sizing: border-box;margin-bottom: 0.5em;}#sk-container-id-7 div.sk-estimator:hover {background-color: #d4ebff;}#sk-container-id-7 div.sk-parallel-item::after {content: \"\";width: 100%;border-bottom: 1px solid gray;flex-grow: 1;}#sk-container-id-7 div.sk-label:hover label.sk-toggleable__label {background-color: #d4ebff;}#sk-container-id-7 div.sk-serial::before {content: \"\";position: absolute;border-left: 1px solid gray;box-sizing: border-box;top: 0;bottom: 0;left: 50%;z-index: 0;}#sk-container-id-7 div.sk-serial {display: flex;flex-direction: column;align-items: center;background-color: white;padding-right: 0.2em;padding-left: 0.2em;position: relative;}#sk-container-id-7 div.sk-item {position: relative;z-index: 1;}#sk-container-id-7 div.sk-parallel {display: flex;align-items: stretch;justify-content: center;background-color: white;position: relative;}#sk-container-id-7 div.sk-item::before, #sk-container-id-7 div.sk-parallel-item::before {content: \"\";position: absolute;border-left: 1px solid gray;box-sizing: border-box;top: 0;bottom: 0;left: 50%;z-index: -1;}#sk-container-id-7 div.sk-parallel-item {display: flex;flex-direction: column;z-index: 1;position: relative;background-color: white;}#sk-container-id-7 div.sk-parallel-item:first-child::after {align-self: flex-end;width: 50%;}#sk-container-id-7 div.sk-parallel-item:last-child::after {align-self: flex-start;width: 50%;}#sk-container-id-7 div.sk-parallel-item:only-child::after {width: 0;}#sk-container-id-7 div.sk-dashed-wrapped {border: 1px dashed gray;margin: 0 0.4em 0.5em 0.4em;box-sizing: border-box;padding-bottom: 0.4em;background-color: white;}#sk-container-id-7 div.sk-label label {font-family: monospace;font-weight: bold;display: inline-block;line-height: 1.2em;}#sk-container-id-7 div.sk-label-container {text-align: center;}#sk-container-id-7 div.sk-container {/* jupyter's `normalize.less` sets `[hidden] { display: none; }` but bootstrap.min.css set `[hidden] { display: none !important; }` so we also need the `!important` here to be able to override the default hidden behavior on the sphinx rendered scikit-learn.org. See: https://github.com/scikit-learn/scikit-learn/issues/21755 */display: inline-block !important;position: relative;}#sk-container-id-7 div.sk-text-repr-fallback {display: none;}</style><div id=\"sk-container-id-7\" class=\"sk-top-container\"><div class=\"sk-text-repr-fallback\"><pre>RandomizedSearchCV(cv=StratifiedKFold(n_splits=4, random_state=None, shuffle=False),\n",
       "                   estimator=XGBClassifier(base_score=None, booster=None,\n",
       "                                           callbacks=None,\n",
       "                                           colsample_bylevel=None,\n",
       "                                           colsample_bynode=None,\n",
       "                                           colsample_bytree=None,\n",
       "                                           early_stopping_rounds=None,\n",
       "                                           enable_categorical=False,\n",
       "                                           eval_metric=None, feature_types=None,\n",
       "                                           gamma=None, gpu_id=None,\n",
       "                                           grow_policy=None,\n",
       "                                           impor...\n",
       "                                           max_leaves=None,\n",
       "                                           min_child_weight=None, missing=nan,\n",
       "                                           monotone_constraints=None,\n",
       "                                           n_estimators=100, n_jobs=None,\n",
       "                                           num_parallel_tree=None,\n",
       "                                           predictor=None, random_state=42, ...),\n",
       "                   n_iter=20,\n",
       "                   param_distributions=[{&#x27;eta&#x27;: [0.1, 0.3, 0.7, 0.9],\n",
       "                                         &#x27;gamma&#x27;: [0.1, 0.4, 1],\n",
       "                                         &#x27;max_depth&#x27;: [2, 6, 9, 14],\n",
       "                                         &#x27;scale_pos_weight&#x27;: [1, 2, 3, 5.69]}],\n",
       "                   random_state=22, scoring=make_scorer(f1_score, pos_label=1),\n",
       "                   verbose=1)</pre><b>In a Jupyter environment, please rerun this cell to show the HTML representation or trust the notebook. <br />On GitHub, the HTML representation is unable to render, please try loading this page with nbviewer.org.</b></div><div class=\"sk-container\" hidden><div class=\"sk-item sk-dashed-wrapped\"><div class=\"sk-label-container\"><div class=\"sk-label sk-toggleable\"><input class=\"sk-toggleable__control sk-hidden--visually\" id=\"sk-estimator-id-19\" type=\"checkbox\" ><label for=\"sk-estimator-id-19\" class=\"sk-toggleable__label sk-toggleable__label-arrow\">RandomizedSearchCV</label><div class=\"sk-toggleable__content\"><pre>RandomizedSearchCV(cv=StratifiedKFold(n_splits=4, random_state=None, shuffle=False),\n",
       "                   estimator=XGBClassifier(base_score=None, booster=None,\n",
       "                                           callbacks=None,\n",
       "                                           colsample_bylevel=None,\n",
       "                                           colsample_bynode=None,\n",
       "                                           colsample_bytree=None,\n",
       "                                           early_stopping_rounds=None,\n",
       "                                           enable_categorical=False,\n",
       "                                           eval_metric=None, feature_types=None,\n",
       "                                           gamma=None, gpu_id=None,\n",
       "                                           grow_policy=None,\n",
       "                                           impor...\n",
       "                                           max_leaves=None,\n",
       "                                           min_child_weight=None, missing=nan,\n",
       "                                           monotone_constraints=None,\n",
       "                                           n_estimators=100, n_jobs=None,\n",
       "                                           num_parallel_tree=None,\n",
       "                                           predictor=None, random_state=42, ...),\n",
       "                   n_iter=20,\n",
       "                   param_distributions=[{&#x27;eta&#x27;: [0.1, 0.3, 0.7, 0.9],\n",
       "                                         &#x27;gamma&#x27;: [0.1, 0.4, 1],\n",
       "                                         &#x27;max_depth&#x27;: [2, 6, 9, 14],\n",
       "                                         &#x27;scale_pos_weight&#x27;: [1, 2, 3, 5.69]}],\n",
       "                   random_state=22, scoring=make_scorer(f1_score, pos_label=1),\n",
       "                   verbose=1)</pre></div></div></div><div class=\"sk-parallel\"><div class=\"sk-parallel-item\"><div class=\"sk-item\"><div class=\"sk-label-container\"><div class=\"sk-label sk-toggleable\"><input class=\"sk-toggleable__control sk-hidden--visually\" id=\"sk-estimator-id-20\" type=\"checkbox\" ><label for=\"sk-estimator-id-20\" class=\"sk-toggleable__label sk-toggleable__label-arrow\">estimator: XGBClassifier</label><div class=\"sk-toggleable__content\"><pre>XGBClassifier(base_score=None, booster=None, callbacks=None,\n",
       "              colsample_bylevel=None, colsample_bynode=None,\n",
       "              colsample_bytree=None, early_stopping_rounds=None,\n",
       "              enable_categorical=False, eval_metric=None, feature_types=None,\n",
       "              gamma=None, gpu_id=None, grow_policy=None, importance_type=None,\n",
       "              interaction_constraints=None, learning_rate=None, max_bin=None,\n",
       "              max_cat_threshold=None, max_cat_to_onehot=None,\n",
       "              max_delta_step=None, max_depth=None, max_leaves=None,\n",
       "              min_child_weight=None, missing=nan, monotone_constraints=None,\n",
       "              n_estimators=100, n_jobs=None, num_parallel_tree=None,\n",
       "              predictor=None, random_state=42, ...)</pre></div></div></div><div class=\"sk-serial\"><div class=\"sk-item\"><div class=\"sk-estimator sk-toggleable\"><input class=\"sk-toggleable__control sk-hidden--visually\" id=\"sk-estimator-id-21\" type=\"checkbox\" ><label for=\"sk-estimator-id-21\" class=\"sk-toggleable__label sk-toggleable__label-arrow\">XGBClassifier</label><div class=\"sk-toggleable__content\"><pre>XGBClassifier(base_score=None, booster=None, callbacks=None,\n",
       "              colsample_bylevel=None, colsample_bynode=None,\n",
       "              colsample_bytree=None, early_stopping_rounds=None,\n",
       "              enable_categorical=False, eval_metric=None, feature_types=None,\n",
       "              gamma=None, gpu_id=None, grow_policy=None, importance_type=None,\n",
       "              interaction_constraints=None, learning_rate=None, max_bin=None,\n",
       "              max_cat_threshold=None, max_cat_to_onehot=None,\n",
       "              max_delta_step=None, max_depth=None, max_leaves=None,\n",
       "              min_child_weight=None, missing=nan, monotone_constraints=None,\n",
       "              n_estimators=100, n_jobs=None, num_parallel_tree=None,\n",
       "              predictor=None, random_state=42, ...)</pre></div></div></div></div></div></div></div></div></div></div>"
      ],
      "text/plain": [
       "RandomizedSearchCV(cv=StratifiedKFold(n_splits=4, random_state=None, shuffle=False),\n",
       "                   estimator=XGBClassifier(base_score=None, booster=None,\n",
       "                                           callbacks=None,\n",
       "                                           colsample_bylevel=None,\n",
       "                                           colsample_bynode=None,\n",
       "                                           colsample_bytree=None,\n",
       "                                           early_stopping_rounds=None,\n",
       "                                           enable_categorical=False,\n",
       "                                           eval_metric=None, feature_types=None,\n",
       "                                           gamma=None, gpu_id=None,\n",
       "                                           grow_policy=None,\n",
       "                                           impor...\n",
       "                                           max_leaves=None,\n",
       "                                           min_child_weight=None, missing=nan,\n",
       "                                           monotone_constraints=None,\n",
       "                                           n_estimators=100, n_jobs=None,\n",
       "                                           num_parallel_tree=None,\n",
       "                                           predictor=None, random_state=42, ...),\n",
       "                   n_iter=20,\n",
       "                   param_distributions=[{'eta': [0.1, 0.3, 0.7, 0.9],\n",
       "                                         'gamma': [0.1, 0.4, 1],\n",
       "                                         'max_depth': [2, 6, 9, 14],\n",
       "                                         'scale_pos_weight': [1, 2, 3, 5.69]}],\n",
       "                   random_state=22, scoring=make_scorer(f1_score, pos_label=1),\n",
       "                   verbose=1)"
      ]
     },
     "execution_count": 84,
     "metadata": {},
     "output_type": "execute_result"
    }
   ],
   "source": [
    "# Creating list to house dictionary with possible parameter values.\n",
    "param_dist = [{\n",
    "    'eta': [0.1, 0.3, 0.7, 0.9],\n",
    "    'gamma': [0.1, 0.4, 1],\n",
    "    'max_depth': [2, 6, 9, 14],\n",
    "    'scale_pos_weight': [1, 2, 3, 5.69]\n",
    "}]\n",
    "# Creating initial XGBClassifier model.\n",
    "xgbc = XGBClassifier(random_state=42)\n",
    "# Creating RandomizedSearchCV function.\n",
    "rand_search = RandomizedSearchCV(xgbc, param_distributions=param_dist, \n",
    "                                scoring=make_scorer(f1_score, pos_label=1), \n",
    "                                cv=StratifiedKFold(n_splits=4), \n",
    "                                verbose=1, n_iter=20, random_state=22)\n",
    "# Fitting rand_search with training data.\n",
    "rand_search.fit(X_train1, y_train)"
   ]
  },
  {
   "cell_type": "code",
   "execution_count": 85,
   "metadata": {},
   "outputs": [
    {
     "name": "stdout",
     "output_type": "stream",
     "text": [
      "{'scale_pos_weight': 3, 'max_depth': 2, 'gamma': 0.1, 'eta': 0.3}\n"
     ]
    }
   ],
   "source": [
    "# Printing the best parameters from the best estimator from rand_search.\n",
    "print(rand_search.best_params_)"
   ]
  },
  {
   "cell_type": "code",
   "execution_count": 86,
   "metadata": {},
   "outputs": [
    {
     "name": "stdout",
     "output_type": "stream",
     "text": [
      "f1_score on training data: 0.48\n",
      "f1_score on testing data: 0.48\n"
     ]
    }
   ],
   "source": [
    "# Creating a XGBClassifier model, xgbc, based on the best estimator from rand_search.\n",
    "xgbc = rand_search.best_estimator_\n",
    "\n",
    "# Fitting xgbc with training data. \n",
    "xgbc.fit(X_train1, y_train)\n",
    "\n",
    "# Calculating f1_score on training data.\n",
    "pred_target = xgbc.predict(X_train1)\n",
    "f1_train = np.round(f1_score(y_train, pred_target),2)\n",
    "print('f1_score on training data:', f1_train)\n",
    "\n",
    "# Calculating f1_score on testing data.\n",
    "pred_target = xgbc.predict(X_test1)\n",
    "f1_test = np.round(f1_score(y_test, pred_target),2)\n",
    "print('f1_score on testing data:', f1_test)"
   ]
  },
  {
   "cell_type": "markdown",
   "metadata": {},
   "source": [
    "This f1 score on the testing data is the same as the f1 score on the testing data on the 'best' HistGradientBoostingClassifier model."
   ]
  },
  {
   "cell_type": "code",
   "execution_count": null,
   "metadata": {},
   "outputs": [
    {
     "name": "stdout",
     "output_type": "stream",
     "text": [
      "\n",
      "(50, 2)\n"
     ]
    }
   ],
   "source": [
    "# Creating data frame with all feature names and corresponding importance.\n",
    "feature_importance = pd.DataFrame()\n",
    "feature_importance['features'] = xgbc.feature_names_in_\n",
    "feature_importance['importance'] = xgbc.feature_importances_\n",
    "\n",
    "# Printing shape of data frame that only contains feature with no importance.\n",
    "print(feature_importance[feature_importance['importance'] == 0].shape)\n"
   ]
  },
  {
   "cell_type": "markdown",
   "metadata": {},
   "source": [
    "There are 16 variables that have no importance."
   ]
  },
  {
   "cell_type": "code",
   "execution_count": 88,
   "metadata": {},
   "outputs": [],
   "source": [
    "# Creating new data frame with features that have some importance.\n",
    "impt_features = feature_importance.loc[feature_importance['importance'] != 0]\n",
    "# Creating a list with the values from the 'features' columns.\n",
    "imp_cols = impt_features['features'].values.astype(int).tolist()\n",
    "\n",
    "# Creating new training and testing predictor data frame with the important variables.\n",
    "X_train1_imp = X_train1[imp_cols]\n",
    "X_test1_imp = X_test1[imp_cols]"
   ]
  },
  {
   "cell_type": "code",
   "execution_count": 90,
   "metadata": {},
   "outputs": [
    {
     "name": "stdout",
     "output_type": "stream",
     "text": [
      "f1_score on training data: 0.48\n",
      "f1_score on testing data: 0.48\n"
     ]
    }
   ],
   "source": [
    "# Creating XGBClassifier,xgbc, based on the best parameters from the rand_search best estimator.\n",
    "xgbc = XGBClassifier(scale_pos_weight= 3, max_depth= 2, gamma= 0.1, eta= 0.3, random_state=42)\n",
    "\n",
    "# Fitting xgbc with training data. \n",
    "xgbc.fit(X_train1_imp, y_train)\n",
    "\n",
    "# Calculating f1_score on training data.\n",
    "pred_target = xgbc.predict(X_train1_imp)\n",
    "f1_train = np.round(f1_score(y_train, pred_target),2)\n",
    "print('f1_score on training data:', f1_train)\n",
    "\n",
    "# Calculating f1_score on testing data.\n",
    "pred_target = xgbc.predict(X_test1_imp)\n",
    "f1_test = np.round(f1_score(y_test, pred_target),2)\n",
    "print('f1_score on testing data:', f1_test)"
   ]
  },
  {
   "cell_type": "markdown",
   "metadata": {},
   "source": [
    "While I hoped that removing non-important variables would improve the F1 score on the testing data, it remained unchanged at 0.48."
   ]
  },
  {
   "cell_type": "markdown",
   "metadata": {},
   "source": [
    "## Conclusion"
   ]
  },
  {
   "cell_type": "markdown",
   "metadata": {},
   "source": [
    "The initial goal of this notebook was to determine whether one-hot encoding discrete variables would enable the model to make more accurate assumptions about each discrete variable. Additionally, stratifying the target variable when splitting the data into training and testing sets aimed to help the model generalize better to unseen data. However, while these adjustments did not decrease the F1 score for the target variable, they also did not result in any significant improvement.\n",
    "\n",
    "**Next Steps**\n",
    "\n",
    "Moving forward, the focus will shift to evaluating not only the F1 score for diabetic instances but also metrics such as recall, precision, and the confusion matrix. By analyzing these metrics, we can hopefully identify the factors affecting the F1 score. This analysis will primarily be conducted using HistGradientBoostClassifier and XGBClassifier."
   ]
  }
 ],
 "metadata": {
  "kernelspec": {
   "display_name": "Python 3",
   "language": "python",
   "name": "python3"
  },
  "language_info": {
   "codemirror_mode": {
    "name": "ipython",
    "version": 3
   },
   "file_extension": ".py",
   "mimetype": "text/x-python",
   "name": "python",
   "nbconvert_exporter": "python",
   "pygments_lexer": "ipython3",
   "version": "3.11.1"
  }
 },
 "nbformat": 4,
 "nbformat_minor": 2
}
